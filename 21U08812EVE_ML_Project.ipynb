{
  "cells": [
    {
      "cell_type": "markdown",
      "metadata": {
        "id": "view-in-github",
        "colab_type": "text"
      },
      "source": [
        "<a href=\"https://colab.research.google.com/github/Kamurasi-Jordan-Arthur/Year-II-AI/blob/main/21U08812EVE_ML_Project.ipynb\" target=\"_parent\"><img src=\"https://colab.research.google.com/assets/colab-badge.svg\" alt=\"Open In Colab\"/></a>"
      ]
    },
    {
      "cell_type": "markdown",
      "id": "e7daa176",
      "metadata": {
        "id": "e7daa176"
      },
      "source": [
        "# 21/U/08812/EVE    AND     21/U/12682\n",
        "#### Kamurasi jordan arthur                 //             Alabyeekobo Suubi Brain"
      ]
    },
    {
      "cell_type": "markdown",
      "id": "8f776dba",
      "metadata": {
        "id": "8f776dba"
      },
      "source": [
        "## Objective \n",
        "- Objective is to try a predict the co2emmisions given feature composition\n",
        "- Also used additional clustering algorithm to find the the hidden relation ship between the highwaympg and year over the years\n",
        "### Below are the description of the data set "
      ]
    },
    {
      "cell_type": "code",
      "execution_count": 6,
      "id": "628787ce",
      "metadata": {
        "id": "628787ce"
      },
      "outputs": [],
      "source": [
        "import numpy as np\n",
        "import pandas as pd\n",
        "import matplotlib.pyplot as plt\n",
        "import seaborn as sns\n",
        "%matplotlib inline"
      ]
    },
    {
      "cell_type": "code",
      "execution_count": 7,
      "id": "053f7f97",
      "metadata": {
        "id": "053f7f97"
      },
      "outputs": [],
      "source": [
        "veichles = pd.read_csv(\"https://raw.githubusercontent.com/Kamurasi-Jordan-Arthur/Year-II-AI/main/vehicles.csv\")\n",
        "# bikes = pd.read_csv(\"bikes.csv\")"
      ]
    },
    {
      "cell_type": "markdown",
      "id": "1e37d858",
      "metadata": {
        "id": "1e37d858"
      },
      "source": [
        "## A veiw of my chossen data set"
      ]
    },
    {
      "cell_type": "markdown",
      "source": [],
      "metadata": {
        "id": "QQXtrUSWrXuK"
      },
      "id": "QQXtrUSWrXuK"
    },
    {
      "cell_type": "code",
      "execution_count": 8,
      "id": "9f0b424e",
      "metadata": {
        "id": "9f0b424e",
        "colab": {
          "base_uri": "https://localhost:8080/",
          "height": 444
        },
        "outputId": "f4a331c2-d2a9-42fd-d866-95ba7309f265"
      },
      "outputs": [
        {
          "output_type": "execute_result",
          "data": {
            "text/plain": [
              "   citympg  cylinders  displacement             drive  highwaympg      make  \\\n",
              "0     14.0          6           4.1     2-Wheel Drive        19.0     Buick   \n",
              "1     14.0          8           5.0     2-Wheel Drive        20.0     Buick   \n",
              "2     18.0          8           5.7     2-Wheel Drive        26.0     Buick   \n",
              "3     21.0          6           4.3  Rear-Wheel Drive        31.0  Cadillac   \n",
              "4     14.0          8           4.1  Rear-Wheel Drive        19.0  Cadillac   \n",
              "\n",
              "                     model       class  year transmissiontype  \\\n",
              "0      Electra/Park Avenue  Large Cars  1984        Automatic   \n",
              "1      Electra/Park Avenue  Large Cars  1984        Automatic   \n",
              "2      Electra/Park Avenue  Large Cars  1984        Automatic   \n",
              "3  Fleetwood/DeVille (FWD)  Large Cars  1984        Automatic   \n",
              "4   Brougham/DeVille (RWD)  Large Cars  1984        Automatic   \n",
              "\n",
              "   transmissionspeeds  co2emissions  \n",
              "0                   4    555.437500  \n",
              "1                   4    555.437500  \n",
              "2                   4    484.761905  \n",
              "3                   4    424.166667  \n",
              "4                   4    555.437500  "
            ],
            "text/html": [
              "\n",
              "  <div id=\"df-ba33f4d2-95f9-4b8e-af77-a83e10a2c26c\">\n",
              "    <div class=\"colab-df-container\">\n",
              "      <div>\n",
              "<style scoped>\n",
              "    .dataframe tbody tr th:only-of-type {\n",
              "        vertical-align: middle;\n",
              "    }\n",
              "\n",
              "    .dataframe tbody tr th {\n",
              "        vertical-align: top;\n",
              "    }\n",
              "\n",
              "    .dataframe thead th {\n",
              "        text-align: right;\n",
              "    }\n",
              "</style>\n",
              "<table border=\"1\" class=\"dataframe\">\n",
              "  <thead>\n",
              "    <tr style=\"text-align: right;\">\n",
              "      <th></th>\n",
              "      <th>citympg</th>\n",
              "      <th>cylinders</th>\n",
              "      <th>displacement</th>\n",
              "      <th>drive</th>\n",
              "      <th>highwaympg</th>\n",
              "      <th>make</th>\n",
              "      <th>model</th>\n",
              "      <th>class</th>\n",
              "      <th>year</th>\n",
              "      <th>transmissiontype</th>\n",
              "      <th>transmissionspeeds</th>\n",
              "      <th>co2emissions</th>\n",
              "    </tr>\n",
              "  </thead>\n",
              "  <tbody>\n",
              "    <tr>\n",
              "      <th>0</th>\n",
              "      <td>14.0</td>\n",
              "      <td>6</td>\n",
              "      <td>4.1</td>\n",
              "      <td>2-Wheel Drive</td>\n",
              "      <td>19.0</td>\n",
              "      <td>Buick</td>\n",
              "      <td>Electra/Park Avenue</td>\n",
              "      <td>Large Cars</td>\n",
              "      <td>1984</td>\n",
              "      <td>Automatic</td>\n",
              "      <td>4</td>\n",
              "      <td>555.437500</td>\n",
              "    </tr>\n",
              "    <tr>\n",
              "      <th>1</th>\n",
              "      <td>14.0</td>\n",
              "      <td>8</td>\n",
              "      <td>5.0</td>\n",
              "      <td>2-Wheel Drive</td>\n",
              "      <td>20.0</td>\n",
              "      <td>Buick</td>\n",
              "      <td>Electra/Park Avenue</td>\n",
              "      <td>Large Cars</td>\n",
              "      <td>1984</td>\n",
              "      <td>Automatic</td>\n",
              "      <td>4</td>\n",
              "      <td>555.437500</td>\n",
              "    </tr>\n",
              "    <tr>\n",
              "      <th>2</th>\n",
              "      <td>18.0</td>\n",
              "      <td>8</td>\n",
              "      <td>5.7</td>\n",
              "      <td>2-Wheel Drive</td>\n",
              "      <td>26.0</td>\n",
              "      <td>Buick</td>\n",
              "      <td>Electra/Park Avenue</td>\n",
              "      <td>Large Cars</td>\n",
              "      <td>1984</td>\n",
              "      <td>Automatic</td>\n",
              "      <td>4</td>\n",
              "      <td>484.761905</td>\n",
              "    </tr>\n",
              "    <tr>\n",
              "      <th>3</th>\n",
              "      <td>21.0</td>\n",
              "      <td>6</td>\n",
              "      <td>4.3</td>\n",
              "      <td>Rear-Wheel Drive</td>\n",
              "      <td>31.0</td>\n",
              "      <td>Cadillac</td>\n",
              "      <td>Fleetwood/DeVille (FWD)</td>\n",
              "      <td>Large Cars</td>\n",
              "      <td>1984</td>\n",
              "      <td>Automatic</td>\n",
              "      <td>4</td>\n",
              "      <td>424.166667</td>\n",
              "    </tr>\n",
              "    <tr>\n",
              "      <th>4</th>\n",
              "      <td>14.0</td>\n",
              "      <td>8</td>\n",
              "      <td>4.1</td>\n",
              "      <td>Rear-Wheel Drive</td>\n",
              "      <td>19.0</td>\n",
              "      <td>Cadillac</td>\n",
              "      <td>Brougham/DeVille (RWD)</td>\n",
              "      <td>Large Cars</td>\n",
              "      <td>1984</td>\n",
              "      <td>Automatic</td>\n",
              "      <td>4</td>\n",
              "      <td>555.437500</td>\n",
              "    </tr>\n",
              "  </tbody>\n",
              "</table>\n",
              "</div>\n",
              "      <button class=\"colab-df-convert\" onclick=\"convertToInteractive('df-ba33f4d2-95f9-4b8e-af77-a83e10a2c26c')\"\n",
              "              title=\"Convert this dataframe to an interactive table.\"\n",
              "              style=\"display:none;\">\n",
              "        \n",
              "  <svg xmlns=\"http://www.w3.org/2000/svg\" height=\"24px\"viewBox=\"0 0 24 24\"\n",
              "       width=\"24px\">\n",
              "    <path d=\"M0 0h24v24H0V0z\" fill=\"none\"/>\n",
              "    <path d=\"M18.56 5.44l.94 2.06.94-2.06 2.06-.94-2.06-.94-.94-2.06-.94 2.06-2.06.94zm-11 1L8.5 8.5l.94-2.06 2.06-.94-2.06-.94L8.5 2.5l-.94 2.06-2.06.94zm10 10l.94 2.06.94-2.06 2.06-.94-2.06-.94-.94-2.06-.94 2.06-2.06.94z\"/><path d=\"M17.41 7.96l-1.37-1.37c-.4-.4-.92-.59-1.43-.59-.52 0-1.04.2-1.43.59L10.3 9.45l-7.72 7.72c-.78.78-.78 2.05 0 2.83L4 21.41c.39.39.9.59 1.41.59.51 0 1.02-.2 1.41-.59l7.78-7.78 2.81-2.81c.8-.78.8-2.07 0-2.86zM5.41 20L4 18.59l7.72-7.72 1.47 1.35L5.41 20z\"/>\n",
              "  </svg>\n",
              "      </button>\n",
              "      \n",
              "  <style>\n",
              "    .colab-df-container {\n",
              "      display:flex;\n",
              "      flex-wrap:wrap;\n",
              "      gap: 12px;\n",
              "    }\n",
              "\n",
              "    .colab-df-convert {\n",
              "      background-color: #E8F0FE;\n",
              "      border: none;\n",
              "      border-radius: 50%;\n",
              "      cursor: pointer;\n",
              "      display: none;\n",
              "      fill: #1967D2;\n",
              "      height: 32px;\n",
              "      padding: 0 0 0 0;\n",
              "      width: 32px;\n",
              "    }\n",
              "\n",
              "    .colab-df-convert:hover {\n",
              "      background-color: #E2EBFA;\n",
              "      box-shadow: 0px 1px 2px rgba(60, 64, 67, 0.3), 0px 1px 3px 1px rgba(60, 64, 67, 0.15);\n",
              "      fill: #174EA6;\n",
              "    }\n",
              "\n",
              "    [theme=dark] .colab-df-convert {\n",
              "      background-color: #3B4455;\n",
              "      fill: #D2E3FC;\n",
              "    }\n",
              "\n",
              "    [theme=dark] .colab-df-convert:hover {\n",
              "      background-color: #434B5C;\n",
              "      box-shadow: 0px 1px 3px 1px rgba(0, 0, 0, 0.15);\n",
              "      filter: drop-shadow(0px 1px 2px rgba(0, 0, 0, 0.3));\n",
              "      fill: #FFFFFF;\n",
              "    }\n",
              "  </style>\n",
              "\n",
              "      <script>\n",
              "        const buttonEl =\n",
              "          document.querySelector('#df-ba33f4d2-95f9-4b8e-af77-a83e10a2c26c button.colab-df-convert');\n",
              "        buttonEl.style.display =\n",
              "          google.colab.kernel.accessAllowed ? 'block' : 'none';\n",
              "\n",
              "        async function convertToInteractive(key) {\n",
              "          const element = document.querySelector('#df-ba33f4d2-95f9-4b8e-af77-a83e10a2c26c');\n",
              "          const dataTable =\n",
              "            await google.colab.kernel.invokeFunction('convertToInteractive',\n",
              "                                                     [key], {});\n",
              "          if (!dataTable) return;\n",
              "\n",
              "          const docLinkHtml = 'Like what you see? Visit the ' +\n",
              "            '<a target=\"_blank\" href=https://colab.research.google.com/notebooks/data_table.ipynb>data table notebook</a>'\n",
              "            + ' to learn more about interactive tables.';\n",
              "          element.innerHTML = '';\n",
              "          dataTable['output_type'] = 'display_data';\n",
              "          await google.colab.output.renderOutput(dataTable, element);\n",
              "          const docLink = document.createElement('div');\n",
              "          docLink.innerHTML = docLinkHtml;\n",
              "          element.appendChild(docLink);\n",
              "        }\n",
              "      </script>\n",
              "    </div>\n",
              "  </div>\n",
              "  "
            ]
          },
          "metadata": {},
          "execution_count": 8
        }
      ],
      "source": [
        "veichles.head(5)\n",
        "# bikes.head()"
      ]
    },
    {
      "cell_type": "markdown",
      "id": "79c86715",
      "metadata": {
        "id": "79c86715"
      },
      "source": [
        "# Data Exploration"
      ]
    },
    {
      "cell_type": "code",
      "execution_count": 9,
      "id": "47bad39d",
      "metadata": {
        "id": "47bad39d",
        "colab": {
          "base_uri": "https://localhost:8080/",
          "height": 674
        },
        "outputId": "6773f5a8-01dc-4481-fb92-abb548fce434"
      },
      "outputs": [
        {
          "output_type": "stream",
          "name": "stdout",
          "text": [
            "<class 'pandas.core.frame.DataFrame'>\n",
            "RangeIndex: 36979 entries, 0 to 36978\n",
            "Data columns (total 12 columns):\n",
            " #   Column              Non-Null Count  Dtype  \n",
            "---  ------              --------------  -----  \n",
            " 0   citympg             36973 non-null  float64\n",
            " 1   cylinders           36979 non-null  int64  \n",
            " 2   displacement        36970 non-null  float64\n",
            " 3   drive               36979 non-null  object \n",
            " 4   highwaympg          36971 non-null  float64\n",
            " 5   make                36979 non-null  object \n",
            " 6   model               36979 non-null  object \n",
            " 7   class               36979 non-null  object \n",
            " 8   year                36979 non-null  int64  \n",
            " 9   transmissiontype    36979 non-null  object \n",
            " 10  transmissionspeeds  36979 non-null  int64  \n",
            " 11  co2emissions        36979 non-null  float64\n",
            "dtypes: float64(4), int64(3), object(5)\n",
            "memory usage: 3.4+ MB\n"
          ]
        },
        {
          "output_type": "execute_result",
          "data": {
            "text/plain": [
              "            citympg     cylinders  displacement   highwaympg          year  \\\n",
              "count  36973.000000  36979.000000  36970.000000  36971.00000  36979.000000   \n",
              "mean      17.532497      5.775765      3.345899     23.76936   2000.889045   \n",
              "std        4.473165      1.756336      1.359921      5.71944     10.400847   \n",
              "min        6.000000      2.000000      0.600000      9.00000   1984.000000   \n",
              "25%       15.000000      4.000000      2.200000     20.00000   1991.000000   \n",
              "50%       17.000000      6.000000      3.000000     24.00000   2001.000000   \n",
              "75%       20.000000      6.000000      4.300000     27.00000   2010.000000   \n",
              "max       57.000000     16.000000      8.400000     61.00000   2018.000000   \n",
              "\n",
              "       transmissionspeeds  co2emissions  \n",
              "count        36979.000000  36979.000000  \n",
              "mean             4.954271    476.550703  \n",
              "std              1.228390    117.791357  \n",
              "min              1.000000     29.000000  \n",
              "25%              4.000000    400.000000  \n",
              "50%              5.000000    467.736842  \n",
              "75%              6.000000    555.437500  \n",
              "max             10.000000   1269.571429  "
            ],
            "text/html": [
              "\n",
              "  <div id=\"df-2b153f86-e947-4700-8ba7-96c3e978513f\">\n",
              "    <div class=\"colab-df-container\">\n",
              "      <div>\n",
              "<style scoped>\n",
              "    .dataframe tbody tr th:only-of-type {\n",
              "        vertical-align: middle;\n",
              "    }\n",
              "\n",
              "    .dataframe tbody tr th {\n",
              "        vertical-align: top;\n",
              "    }\n",
              "\n",
              "    .dataframe thead th {\n",
              "        text-align: right;\n",
              "    }\n",
              "</style>\n",
              "<table border=\"1\" class=\"dataframe\">\n",
              "  <thead>\n",
              "    <tr style=\"text-align: right;\">\n",
              "      <th></th>\n",
              "      <th>citympg</th>\n",
              "      <th>cylinders</th>\n",
              "      <th>displacement</th>\n",
              "      <th>highwaympg</th>\n",
              "      <th>year</th>\n",
              "      <th>transmissionspeeds</th>\n",
              "      <th>co2emissions</th>\n",
              "    </tr>\n",
              "  </thead>\n",
              "  <tbody>\n",
              "    <tr>\n",
              "      <th>count</th>\n",
              "      <td>36973.000000</td>\n",
              "      <td>36979.000000</td>\n",
              "      <td>36970.000000</td>\n",
              "      <td>36971.00000</td>\n",
              "      <td>36979.000000</td>\n",
              "      <td>36979.000000</td>\n",
              "      <td>36979.000000</td>\n",
              "    </tr>\n",
              "    <tr>\n",
              "      <th>mean</th>\n",
              "      <td>17.532497</td>\n",
              "      <td>5.775765</td>\n",
              "      <td>3.345899</td>\n",
              "      <td>23.76936</td>\n",
              "      <td>2000.889045</td>\n",
              "      <td>4.954271</td>\n",
              "      <td>476.550703</td>\n",
              "    </tr>\n",
              "    <tr>\n",
              "      <th>std</th>\n",
              "      <td>4.473165</td>\n",
              "      <td>1.756336</td>\n",
              "      <td>1.359921</td>\n",
              "      <td>5.71944</td>\n",
              "      <td>10.400847</td>\n",
              "      <td>1.228390</td>\n",
              "      <td>117.791357</td>\n",
              "    </tr>\n",
              "    <tr>\n",
              "      <th>min</th>\n",
              "      <td>6.000000</td>\n",
              "      <td>2.000000</td>\n",
              "      <td>0.600000</td>\n",
              "      <td>9.00000</td>\n",
              "      <td>1984.000000</td>\n",
              "      <td>1.000000</td>\n",
              "      <td>29.000000</td>\n",
              "    </tr>\n",
              "    <tr>\n",
              "      <th>25%</th>\n",
              "      <td>15.000000</td>\n",
              "      <td>4.000000</td>\n",
              "      <td>2.200000</td>\n",
              "      <td>20.00000</td>\n",
              "      <td>1991.000000</td>\n",
              "      <td>4.000000</td>\n",
              "      <td>400.000000</td>\n",
              "    </tr>\n",
              "    <tr>\n",
              "      <th>50%</th>\n",
              "      <td>17.000000</td>\n",
              "      <td>6.000000</td>\n",
              "      <td>3.000000</td>\n",
              "      <td>24.00000</td>\n",
              "      <td>2001.000000</td>\n",
              "      <td>5.000000</td>\n",
              "      <td>467.736842</td>\n",
              "    </tr>\n",
              "    <tr>\n",
              "      <th>75%</th>\n",
              "      <td>20.000000</td>\n",
              "      <td>6.000000</td>\n",
              "      <td>4.300000</td>\n",
              "      <td>27.00000</td>\n",
              "      <td>2010.000000</td>\n",
              "      <td>6.000000</td>\n",
              "      <td>555.437500</td>\n",
              "    </tr>\n",
              "    <tr>\n",
              "      <th>max</th>\n",
              "      <td>57.000000</td>\n",
              "      <td>16.000000</td>\n",
              "      <td>8.400000</td>\n",
              "      <td>61.00000</td>\n",
              "      <td>2018.000000</td>\n",
              "      <td>10.000000</td>\n",
              "      <td>1269.571429</td>\n",
              "    </tr>\n",
              "  </tbody>\n",
              "</table>\n",
              "</div>\n",
              "      <button class=\"colab-df-convert\" onclick=\"convertToInteractive('df-2b153f86-e947-4700-8ba7-96c3e978513f')\"\n",
              "              title=\"Convert this dataframe to an interactive table.\"\n",
              "              style=\"display:none;\">\n",
              "        \n",
              "  <svg xmlns=\"http://www.w3.org/2000/svg\" height=\"24px\"viewBox=\"0 0 24 24\"\n",
              "       width=\"24px\">\n",
              "    <path d=\"M0 0h24v24H0V0z\" fill=\"none\"/>\n",
              "    <path d=\"M18.56 5.44l.94 2.06.94-2.06 2.06-.94-2.06-.94-.94-2.06-.94 2.06-2.06.94zm-11 1L8.5 8.5l.94-2.06 2.06-.94-2.06-.94L8.5 2.5l-.94 2.06-2.06.94zm10 10l.94 2.06.94-2.06 2.06-.94-2.06-.94-.94-2.06-.94 2.06-2.06.94z\"/><path d=\"M17.41 7.96l-1.37-1.37c-.4-.4-.92-.59-1.43-.59-.52 0-1.04.2-1.43.59L10.3 9.45l-7.72 7.72c-.78.78-.78 2.05 0 2.83L4 21.41c.39.39.9.59 1.41.59.51 0 1.02-.2 1.41-.59l7.78-7.78 2.81-2.81c.8-.78.8-2.07 0-2.86zM5.41 20L4 18.59l7.72-7.72 1.47 1.35L5.41 20z\"/>\n",
              "  </svg>\n",
              "      </button>\n",
              "      \n",
              "  <style>\n",
              "    .colab-df-container {\n",
              "      display:flex;\n",
              "      flex-wrap:wrap;\n",
              "      gap: 12px;\n",
              "    }\n",
              "\n",
              "    .colab-df-convert {\n",
              "      background-color: #E8F0FE;\n",
              "      border: none;\n",
              "      border-radius: 50%;\n",
              "      cursor: pointer;\n",
              "      display: none;\n",
              "      fill: #1967D2;\n",
              "      height: 32px;\n",
              "      padding: 0 0 0 0;\n",
              "      width: 32px;\n",
              "    }\n",
              "\n",
              "    .colab-df-convert:hover {\n",
              "      background-color: #E2EBFA;\n",
              "      box-shadow: 0px 1px 2px rgba(60, 64, 67, 0.3), 0px 1px 3px 1px rgba(60, 64, 67, 0.15);\n",
              "      fill: #174EA6;\n",
              "    }\n",
              "\n",
              "    [theme=dark] .colab-df-convert {\n",
              "      background-color: #3B4455;\n",
              "      fill: #D2E3FC;\n",
              "    }\n",
              "\n",
              "    [theme=dark] .colab-df-convert:hover {\n",
              "      background-color: #434B5C;\n",
              "      box-shadow: 0px 1px 3px 1px rgba(0, 0, 0, 0.15);\n",
              "      filter: drop-shadow(0px 1px 2px rgba(0, 0, 0, 0.3));\n",
              "      fill: #FFFFFF;\n",
              "    }\n",
              "  </style>\n",
              "\n",
              "      <script>\n",
              "        const buttonEl =\n",
              "          document.querySelector('#df-2b153f86-e947-4700-8ba7-96c3e978513f button.colab-df-convert');\n",
              "        buttonEl.style.display =\n",
              "          google.colab.kernel.accessAllowed ? 'block' : 'none';\n",
              "\n",
              "        async function convertToInteractive(key) {\n",
              "          const element = document.querySelector('#df-2b153f86-e947-4700-8ba7-96c3e978513f');\n",
              "          const dataTable =\n",
              "            await google.colab.kernel.invokeFunction('convertToInteractive',\n",
              "                                                     [key], {});\n",
              "          if (!dataTable) return;\n",
              "\n",
              "          const docLinkHtml = 'Like what you see? Visit the ' +\n",
              "            '<a target=\"_blank\" href=https://colab.research.google.com/notebooks/data_table.ipynb>data table notebook</a>'\n",
              "            + ' to learn more about interactive tables.';\n",
              "          element.innerHTML = '';\n",
              "          dataTable['output_type'] = 'display_data';\n",
              "          await google.colab.output.renderOutput(dataTable, element);\n",
              "          const docLink = document.createElement('div');\n",
              "          docLink.innerHTML = docLinkHtml;\n",
              "          element.appendChild(docLink);\n",
              "        }\n",
              "      </script>\n",
              "    </div>\n",
              "  </div>\n",
              "  "
            ]
          },
          "metadata": {},
          "execution_count": 9
        }
      ],
      "source": [
        "veichles.info()\n",
        "veichles.describe()"
      ]
    },
    {
      "cell_type": "code",
      "execution_count": 10,
      "id": "aed6e565",
      "metadata": {
        "id": "aed6e565",
        "colab": {
          "base_uri": "https://localhost:8080/"
        },
        "outputId": "36fbe578-4dc6-4c21-f3f8-fc4f27654f1d"
      },
      "outputs": [
        {
          "output_type": "execute_result",
          "data": {
            "text/plain": [
              "citympg               6\n",
              "cylinders             0\n",
              "displacement          9\n",
              "drive                 0\n",
              "highwaympg            8\n",
              "make                  0\n",
              "model                 0\n",
              "class                 0\n",
              "year                  0\n",
              "transmissiontype      0\n",
              "transmissionspeeds    0\n",
              "co2emissions          0\n",
              "dtype: int64"
            ]
          },
          "metadata": {},
          "execution_count": 10
        }
      ],
      "source": [
        "veichles.isna().sum()"
      ]
    },
    {
      "cell_type": "code",
      "execution_count": 11,
      "id": "21ce4e3b",
      "metadata": {
        "id": "21ce4e3b",
        "colab": {
          "base_uri": "https://localhost:8080/"
        },
        "outputId": "d802b6ee-9d9d-4071-e46c-71be135710b2"
      },
      "outputs": [
        {
          "output_type": "stream",
          "name": "stdout",
          "text": [
            "count                36979\n",
            "unique                   5\n",
            "top       Rear-Wheel Drive\n",
            "freq                 13194\n",
            "Name: drive, dtype: object\n",
            "\n",
            "\n",
            "\n",
            "count         36979\n",
            "unique          128\n",
            "top       Chevrolet\n",
            "freq           3750\n",
            "Name: make, dtype: object\n",
            "\n",
            "\n",
            "\n",
            "count               36979\n",
            "unique               3650\n",
            "top       F150 Pickup 2WD\n",
            "freq                  213\n",
            "Name: model, dtype: object\n",
            "\n",
            "\n",
            "\n",
            "count            36979\n",
            "unique              10\n",
            "top       Compact Cars\n",
            "freq              7918\n",
            "Name: class, dtype: object\n",
            "\n",
            "\n",
            "\n",
            "count         36979\n",
            "unique            2\n",
            "top       Automatic\n",
            "freq          24910\n",
            "Name: transmissiontype, dtype: object\n",
            "\n",
            "\n",
            "\n"
          ]
        }
      ],
      "source": [
        "for x in veichles.columns:\n",
        "    if veichles[x].dtype == 'object':\n",
        "        print(veichles[x].describe())\n",
        "        print('\\n\\n')\n",
        "\n"
      ]
    },
    {
      "cell_type": "markdown",
      "id": "73efd4e7",
      "metadata": {
        "id": "73efd4e7"
      },
      "source": [
        "## Data set Visualisation\n",
        "### mean C02 emissions as per number of cylinders"
      ]
    },
    {
      "cell_type": "code",
      "execution_count": 12,
      "id": "16188ce0",
      "metadata": {
        "id": "16188ce0",
        "colab": {
          "base_uri": "https://localhost:8080/",
          "height": 736
        },
        "outputId": "89d9ae9a-ba65-4467-a353-1d5f8c359f70"
      },
      "outputs": [
        {
          "output_type": "execute_result",
          "data": {
            "text/plain": [
              "       cylinders  co2emissions\n",
              "count   9.000000      9.000000\n",
              "mean    7.333333    539.394449\n",
              "std     4.609772    184.267898\n",
              "min     2.000000    256.698570\n",
              "25%     4.000000    444.738465\n",
              "50%     6.000000    486.973684\n",
              "75%    10.000000    651.498468\n",
              "max    16.000000    869.388889"
            ],
            "text/html": [
              "\n",
              "  <div id=\"df-84fc7ed2-63c2-4616-82ac-878ae704d150\">\n",
              "    <div class=\"colab-df-container\">\n",
              "      <div>\n",
              "<style scoped>\n",
              "    .dataframe tbody tr th:only-of-type {\n",
              "        vertical-align: middle;\n",
              "    }\n",
              "\n",
              "    .dataframe tbody tr th {\n",
              "        vertical-align: top;\n",
              "    }\n",
              "\n",
              "    .dataframe thead th {\n",
              "        text-align: right;\n",
              "    }\n",
              "</style>\n",
              "<table border=\"1\" class=\"dataframe\">\n",
              "  <thead>\n",
              "    <tr style=\"text-align: right;\">\n",
              "      <th></th>\n",
              "      <th>cylinders</th>\n",
              "      <th>co2emissions</th>\n",
              "    </tr>\n",
              "  </thead>\n",
              "  <tbody>\n",
              "    <tr>\n",
              "      <th>count</th>\n",
              "      <td>9.000000</td>\n",
              "      <td>9.000000</td>\n",
              "    </tr>\n",
              "    <tr>\n",
              "      <th>mean</th>\n",
              "      <td>7.333333</td>\n",
              "      <td>539.394449</td>\n",
              "    </tr>\n",
              "    <tr>\n",
              "      <th>std</th>\n",
              "      <td>4.609772</td>\n",
              "      <td>184.267898</td>\n",
              "    </tr>\n",
              "    <tr>\n",
              "      <th>min</th>\n",
              "      <td>2.000000</td>\n",
              "      <td>256.698570</td>\n",
              "    </tr>\n",
              "    <tr>\n",
              "      <th>25%</th>\n",
              "      <td>4.000000</td>\n",
              "      <td>444.738465</td>\n",
              "    </tr>\n",
              "    <tr>\n",
              "      <th>50%</th>\n",
              "      <td>6.000000</td>\n",
              "      <td>486.973684</td>\n",
              "    </tr>\n",
              "    <tr>\n",
              "      <th>75%</th>\n",
              "      <td>10.000000</td>\n",
              "      <td>651.498468</td>\n",
              "    </tr>\n",
              "    <tr>\n",
              "      <th>max</th>\n",
              "      <td>16.000000</td>\n",
              "      <td>869.388889</td>\n",
              "    </tr>\n",
              "  </tbody>\n",
              "</table>\n",
              "</div>\n",
              "      <button class=\"colab-df-convert\" onclick=\"convertToInteractive('df-84fc7ed2-63c2-4616-82ac-878ae704d150')\"\n",
              "              title=\"Convert this dataframe to an interactive table.\"\n",
              "              style=\"display:none;\">\n",
              "        \n",
              "  <svg xmlns=\"http://www.w3.org/2000/svg\" height=\"24px\"viewBox=\"0 0 24 24\"\n",
              "       width=\"24px\">\n",
              "    <path d=\"M0 0h24v24H0V0z\" fill=\"none\"/>\n",
              "    <path d=\"M18.56 5.44l.94 2.06.94-2.06 2.06-.94-2.06-.94-.94-2.06-.94 2.06-2.06.94zm-11 1L8.5 8.5l.94-2.06 2.06-.94-2.06-.94L8.5 2.5l-.94 2.06-2.06.94zm10 10l.94 2.06.94-2.06 2.06-.94-2.06-.94-.94-2.06-.94 2.06-2.06.94z\"/><path d=\"M17.41 7.96l-1.37-1.37c-.4-.4-.92-.59-1.43-.59-.52 0-1.04.2-1.43.59L10.3 9.45l-7.72 7.72c-.78.78-.78 2.05 0 2.83L4 21.41c.39.39.9.59 1.41.59.51 0 1.02-.2 1.41-.59l7.78-7.78 2.81-2.81c.8-.78.8-2.07 0-2.86zM5.41 20L4 18.59l7.72-7.72 1.47 1.35L5.41 20z\"/>\n",
              "  </svg>\n",
              "      </button>\n",
              "      \n",
              "  <style>\n",
              "    .colab-df-container {\n",
              "      display:flex;\n",
              "      flex-wrap:wrap;\n",
              "      gap: 12px;\n",
              "    }\n",
              "\n",
              "    .colab-df-convert {\n",
              "      background-color: #E8F0FE;\n",
              "      border: none;\n",
              "      border-radius: 50%;\n",
              "      cursor: pointer;\n",
              "      display: none;\n",
              "      fill: #1967D2;\n",
              "      height: 32px;\n",
              "      padding: 0 0 0 0;\n",
              "      width: 32px;\n",
              "    }\n",
              "\n",
              "    .colab-df-convert:hover {\n",
              "      background-color: #E2EBFA;\n",
              "      box-shadow: 0px 1px 2px rgba(60, 64, 67, 0.3), 0px 1px 3px 1px rgba(60, 64, 67, 0.15);\n",
              "      fill: #174EA6;\n",
              "    }\n",
              "\n",
              "    [theme=dark] .colab-df-convert {\n",
              "      background-color: #3B4455;\n",
              "      fill: #D2E3FC;\n",
              "    }\n",
              "\n",
              "    [theme=dark] .colab-df-convert:hover {\n",
              "      background-color: #434B5C;\n",
              "      box-shadow: 0px 1px 3px 1px rgba(0, 0, 0, 0.15);\n",
              "      filter: drop-shadow(0px 1px 2px rgba(0, 0, 0, 0.3));\n",
              "      fill: #FFFFFF;\n",
              "    }\n",
              "  </style>\n",
              "\n",
              "      <script>\n",
              "        const buttonEl =\n",
              "          document.querySelector('#df-84fc7ed2-63c2-4616-82ac-878ae704d150 button.colab-df-convert');\n",
              "        buttonEl.style.display =\n",
              "          google.colab.kernel.accessAllowed ? 'block' : 'none';\n",
              "\n",
              "        async function convertToInteractive(key) {\n",
              "          const element = document.querySelector('#df-84fc7ed2-63c2-4616-82ac-878ae704d150');\n",
              "          const dataTable =\n",
              "            await google.colab.kernel.invokeFunction('convertToInteractive',\n",
              "                                                     [key], {});\n",
              "          if (!dataTable) return;\n",
              "\n",
              "          const docLinkHtml = 'Like what you see? Visit the ' +\n",
              "            '<a target=\"_blank\" href=https://colab.research.google.com/notebooks/data_table.ipynb>data table notebook</a>'\n",
              "            + ' to learn more about interactive tables.';\n",
              "          element.innerHTML = '';\n",
              "          dataTable['output_type'] = 'display_data';\n",
              "          await google.colab.output.renderOutput(dataTable, element);\n",
              "          const docLink = document.createElement('div');\n",
              "          docLink.innerHTML = docLinkHtml;\n",
              "          element.appendChild(docLink);\n",
              "        }\n",
              "      </script>\n",
              "    </div>\n",
              "  </div>\n",
              "  "
            ]
          },
          "metadata": {},
          "execution_count": 12
        },
        {
          "output_type": "display_data",
          "data": {
            "text/plain": [
              "<Figure size 640x480 with 1 Axes>"
            ],
            "image/png": "[encoded data removed]"
          },
          "metadata": {}
        }
      ],
      "source": [
        "from sklearn.preprocessing import MinMaxScaler, LabelEncoder\n",
        "minmax = MinMaxScaler()\n",
        "x = veichles.groupby('cylinders')['co2emissions'].mean().reset_index()\n",
        "\n",
        "# x['co2emissions']=minmax.fit_transform(x['co2emissions'].to_frame())\n",
        "x.plot(kind = 'bar', x = 'cylinders', y = 'co2emissions', color = 'black')\n",
        "x.describe()"
      ]
    },
    {
      "cell_type": "markdown",
      "id": "d1ddb397",
      "metadata": {
        "id": "d1ddb397"
      },
      "source": [
        "## Preprocessing"
      ]
    },
    {
      "cell_type": "code",
      "execution_count": 13,
      "id": "dad0d2ba",
      "metadata": {
        "id": "dad0d2ba",
        "colab": {
          "base_uri": "https://localhost:8080/",
          "height": 539
        },
        "outputId": "ffcae355-0f8c-4120-8be9-07841768a826"
      },
      "outputs": [
        {
          "output_type": "execute_result",
          "data": {
            "text/plain": [
              "<Axes: >"
            ]
          },
          "metadata": {},
          "execution_count": 13
        },
        {
          "output_type": "display_data",
          "data": {
            "text/plain": [
              "<Figure size 1000x600 with 1 Axes>"
            ],
            "image/png": "[encoded data removed]"
          },
          "metadata": {}
        }
      ],
      "source": [
        "from scipy import stats\n",
        "\n",
        "le = LabelEncoder()\n",
        "x = veichles.pivot(columns = 'drive', values = 'co2emissions')\n",
        "x.plot(kind = 'box', figsize = (10,6))"
      ]
    },
    {
      "cell_type": "code",
      "execution_count": 14,
      "id": "6c5324be",
      "metadata": {
        "id": "6c5324be",
        "colab": {
          "base_uri": "https://localhost:8080/",
          "height": 430
        },
        "outputId": "cb95d1c3-2212-4962-a81d-6e66e60eb85a"
      },
      "outputs": [
        {
          "output_type": "display_data",
          "data": {
            "text/plain": [
              "<Figure size 640x480 with 1 Axes>"
            ],
            "image/png": "[encoded data removed]"
          },
          "metadata": {}
        }
      ],
      "source": [
        "plt.scatter(veichles['citympg'],veichles['highwaympg'])\n",
        "plt.show()"
      ]
    },
    {
      "cell_type": "code",
      "execution_count": 15,
      "id": "fad55f48",
      "metadata": {
        "id": "fad55f48",
        "colab": {
          "base_uri": "https://localhost:8080/"
        },
        "outputId": "c35cb283-b543-4b75-aeec-b7de9cf7aa21"
      },
      "outputs": [
        {
          "output_type": "execute_result",
          "data": {
            "text/plain": [
              "citympg               6\n",
              "cylinders             0\n",
              "displacement          9\n",
              "drive                 0\n",
              "highwaympg            8\n",
              "make                  0\n",
              "model                 0\n",
              "class                 0\n",
              "year                  0\n",
              "transmissiontype      0\n",
              "transmissionspeeds    0\n",
              "co2emissions          0\n",
              "dtype: int64"
            ]
          },
          "metadata": {},
          "execution_count": 15
        }
      ],
      "source": [
        "veichles.isnull().sum()"
      ]
    },
    {
      "cell_type": "code",
      "execution_count": 16,
      "id": "bf0ad969",
      "metadata": {
        "id": "bf0ad969",
        "colab": {
          "base_uri": "https://localhost:8080/"
        },
        "outputId": "e5899433-7b59-44b5-f44e-76038208b274"
      },
      "outputs": [
        {
          "output_type": "stream",
          "name": "stderr",
          "text": [
            "<ipython-input-16-89dfb8dee7a7>:7: DeprecationWarning: In a future version, `df.iloc[:, i] = newvals` will attempt to set the values inplace instead of always setting a new array. To retain the old behavior, use either `df[df.columns[i]] = newvals` or, if columns are non-unique, `df.isetitem(i, newvals)`\n",
            "  veichles.loc[:,('year','cylinders','transmissionspeeds','drive','class','transmissiontype')] = (veichles.loc[:,('year','cylinders','transmissionspeeds','drive','class','transmissiontype')].astype('category'))\n"
          ]
        }
      ],
      "source": [
        "from sklearn.preprocessing import MinMaxScaler, LabelEncoder,StandardScaler\n",
        "le = LabelEncoder()\n",
        "\n",
        "# droping columns that dont contribute tthat much to the model according to the above correlation\n",
        "# veichles.drop({'make','model','transmissionspeeds','year'}, axis = 1, inplace = True)\n",
        "\n",
        "veichles.loc[:,('year','cylinders','transmissionspeeds','drive','class','transmissiontype')] = (veichles.loc[:,('year','cylinders','transmissionspeeds','drive','class','transmissiontype')].astype('category'))\n",
        "# veichles.drop(['year','cylinders'], axis = 1)\n",
        "\n",
        "cat_columns = veichles.loc[:,('year','cylinders','transmissionspeeds','drive','class','transmissiontype')].columns\n",
        "for x in cat_columns:\n",
        "    veichles[x] = le.fit_transform(veichles[x])\n",
        "\n",
        "stdScl = StandardScaler()\n",
        "veichles.loc[:,(x for x in veichles.columns if veichles[x].dtype != 'object')] = stdScl.fit_transform(veichles.loc[:,(x for x in veichles.columns if veichles[x].dtype != 'object')])\n"
      ]
    },
    {
      "cell_type": "markdown",
      "id": "5dc65c98",
      "metadata": {
        "id": "5dc65c98"
      },
      "source": [
        "### Veiw of the correlation to find best feature to use when filling the NA vaues"
      ]
    },
    {
      "cell_type": "code",
      "execution_count": 17,
      "id": "a28fc520",
      "metadata": {
        "id": "a28fc520",
        "colab": {
          "base_uri": "https://localhost:8080/",
          "height": 462
        },
        "outputId": "152d2be3-40f6-4baa-c035-4b7f98b695d0"
      },
      "outputs": [
        {
          "output_type": "stream",
          "name": "stderr",
          "text": [
            "<ipython-input-17-d7e6a595257e>:1: FutureWarning: The default value of numeric_only in DataFrame.corr is deprecated. In a future version, it will default to False. Select only valid columns or specify the value of numeric_only to silence this warning.\n",
            "  veichles.corr()\n"
          ]
        },
        {
          "output_type": "execute_result",
          "data": {
            "text/plain": [
              "                     citympg  cylinders  displacement     drive  highwaympg  \\\n",
              "citympg             1.000000  -0.751562     -0.767136 -0.045820    0.933292   \n",
              "cylinders          -0.751562   1.000000      0.889993  0.093100   -0.669416   \n",
              "displacement       -0.767136   0.889993      1.000000  0.085472   -0.718116   \n",
              "drive              -0.045820   0.093100      0.085472  1.000000    0.005632   \n",
              "highwaympg          0.933292  -0.669416     -0.718116  0.005632    1.000000   \n",
              "class              -0.236148   0.172826      0.223105  0.044186   -0.314812   \n",
              "year                0.156128   0.085540      0.035419 -0.087042    0.264448   \n",
              "transmissiontype    0.192430  -0.256900     -0.236748  0.013317    0.172542   \n",
              "transmissionspeeds  0.164652   0.080408      0.004383 -0.087288    0.284766   \n",
              "co2emissions       -0.906622   0.742596      0.804248  0.020987   -0.927824   \n",
              "\n",
              "                       class      year  transmissiontype  transmissionspeeds  \\\n",
              "citympg            -0.236148  0.156128          0.192430            0.164652   \n",
              "cylinders           0.172826  0.085540         -0.256900            0.080408   \n",
              "displacement        0.223105  0.035419         -0.236748            0.004383   \n",
              "drive               0.044186 -0.087042          0.013317           -0.087288   \n",
              "highwaympg         -0.314812  0.264448          0.172542            0.284766   \n",
              "class               1.000000 -0.064370         -0.013372           -0.061139   \n",
              "year               -0.064370  1.000000         -0.219632            0.711425   \n",
              "transmissiontype   -0.013372 -0.219632          1.000000            0.083414   \n",
              "transmissionspeeds -0.061139  0.711425          0.083414            1.000000   \n",
              "co2emissions        0.298371 -0.224991         -0.159268           -0.232477   \n",
              "\n",
              "                    co2emissions  \n",
              "citympg                -0.906622  \n",
              "cylinders               0.742596  \n",
              "displacement            0.804248  \n",
              "drive                   0.020987  \n",
              "highwaympg             -0.927824  \n",
              "class                   0.298371  \n",
              "year                   -0.224991  \n",
              "transmissiontype       -0.159268  \n",
              "transmissionspeeds     -0.232477  \n",
              "co2emissions            1.000000  "
            ],
            "text/html": [
              "\n",
              "  <div id=\"df-e7eb733c-fe22-4df8-a246-a3366ebc3fd4\">\n",
              "    <div class=\"colab-df-container\">\n",
              "      <div>\n",
              "<style scoped>\n",
              "    .dataframe tbody tr th:only-of-type {\n",
              "        vertical-align: middle;\n",
              "    }\n",
              "\n",
              "    .dataframe tbody tr th {\n",
              "        vertical-align: top;\n",
              "    }\n",
              "\n",
              "    .dataframe thead th {\n",
              "        text-align: right;\n",
              "    }\n",
              "</style>\n",
              "<table border=\"1\" class=\"dataframe\">\n",
              "  <thead>\n",
              "    <tr style=\"text-align: right;\">\n",
              "      <th></th>\n",
              "      <th>citympg</th>\n",
              "      <th>cylinders</th>\n",
              "      <th>displacement</th>\n",
              "      <th>drive</th>\n",
              "      <th>highwaympg</th>\n",
              "      <th>class</th>\n",
              "      <th>year</th>\n",
              "      <th>transmissiontype</th>\n",
              "      <th>transmissionspeeds</th>\n",
              "      <th>co2emissions</th>\n",
              "    </tr>\n",
              "  </thead>\n",
              "  <tbody>\n",
              "    <tr>\n",
              "      <th>citympg</th>\n",
              "      <td>1.000000</td>\n",
              "      <td>-0.751562</td>\n",
              "      <td>-0.767136</td>\n",
              "      <td>-0.045820</td>\n",
              "      <td>0.933292</td>\n",
              "      <td>-0.236148</td>\n",
              "      <td>0.156128</td>\n",
              "      <td>0.192430</td>\n",
              "      <td>0.164652</td>\n",
              "      <td>-0.906622</td>\n",
              "    </tr>\n",
              "    <tr>\n",
              "      <th>cylinders</th>\n",
              "      <td>-0.751562</td>\n",
              "      <td>1.000000</td>\n",
              "      <td>0.889993</td>\n",
              "      <td>0.093100</td>\n",
              "      <td>-0.669416</td>\n",
              "      <td>0.172826</td>\n",
              "      <td>0.085540</td>\n",
              "      <td>-0.256900</td>\n",
              "      <td>0.080408</td>\n",
              "      <td>0.742596</td>\n",
              "    </tr>\n",
              "    <tr>\n",
              "      <th>displacement</th>\n",
              "      <td>-0.767136</td>\n",
              "      <td>0.889993</td>\n",
              "      <td>1.000000</td>\n",
              "      <td>0.085472</td>\n",
              "      <td>-0.718116</td>\n",
              "      <td>0.223105</td>\n",
              "      <td>0.035419</td>\n",
              "      <td>-0.236748</td>\n",
              "      <td>0.004383</td>\n",
              "      <td>0.804248</td>\n",
              "    </tr>\n",
              "    <tr>\n",
              "      <th>drive</th>\n",
              "      <td>-0.045820</td>\n",
              "      <td>0.093100</td>\n",
              "      <td>0.085472</td>\n",
              "      <td>1.000000</td>\n",
              "      <td>0.005632</td>\n",
              "      <td>0.044186</td>\n",
              "      <td>-0.087042</td>\n",
              "      <td>0.013317</td>\n",
              "      <td>-0.087288</td>\n",
              "      <td>0.020987</td>\n",
              "    </tr>\n",
              "    <tr>\n",
              "      <th>highwaympg</th>\n",
              "      <td>0.933292</td>\n",
              "      <td>-0.669416</td>\n",
              "      <td>-0.718116</td>\n",
              "      <td>0.005632</td>\n",
              "      <td>1.000000</td>\n",
              "      <td>-0.314812</td>\n",
              "      <td>0.264448</td>\n",
              "      <td>0.172542</td>\n",
              "      <td>0.284766</td>\n",
              "      <td>-0.927824</td>\n",
              "    </tr>\n",
              "    <tr>\n",
              "      <th>class</th>\n",
              "      <td>-0.236148</td>\n",
              "      <td>0.172826</td>\n",
              "      <td>0.223105</td>\n",
              "      <td>0.044186</td>\n",
              "      <td>-0.314812</td>\n",
              "      <td>1.000000</td>\n",
              "      <td>-0.064370</td>\n",
              "      <td>-0.013372</td>\n",
              "      <td>-0.061139</td>\n",
              "      <td>0.298371</td>\n",
              "    </tr>\n",
              "    <tr>\n",
              "      <th>year</th>\n",
              "      <td>0.156128</td>\n",
              "      <td>0.085540</td>\n",
              "      <td>0.035419</td>\n",
              "      <td>-0.087042</td>\n",
              "      <td>0.264448</td>\n",
              "      <td>-0.064370</td>\n",
              "      <td>1.000000</td>\n",
              "      <td>-0.219632</td>\n",
              "      <td>0.711425</td>\n",
              "      <td>-0.224991</td>\n",
              "    </tr>\n",
              "    <tr>\n",
              "      <th>transmissiontype</th>\n",
              "      <td>0.192430</td>\n",
              "      <td>-0.256900</td>\n",
              "      <td>-0.236748</td>\n",
              "      <td>0.013317</td>\n",
              "      <td>0.172542</td>\n",
              "      <td>-0.013372</td>\n",
              "      <td>-0.219632</td>\n",
              "      <td>1.000000</td>\n",
              "      <td>0.083414</td>\n",
              "      <td>-0.159268</td>\n",
              "    </tr>\n",
              "    <tr>\n",
              "      <th>transmissionspeeds</th>\n",
              "      <td>0.164652</td>\n",
              "      <td>0.080408</td>\n",
              "      <td>0.004383</td>\n",
              "      <td>-0.087288</td>\n",
              "      <td>0.284766</td>\n",
              "      <td>-0.061139</td>\n",
              "      <td>0.711425</td>\n",
              "      <td>0.083414</td>\n",
              "      <td>1.000000</td>\n",
              "      <td>-0.232477</td>\n",
              "    </tr>\n",
              "    <tr>\n",
              "      <th>co2emissions</th>\n",
              "      <td>-0.906622</td>\n",
              "      <td>0.742596</td>\n",
              "      <td>0.804248</td>\n",
              "      <td>0.020987</td>\n",
              "      <td>-0.927824</td>\n",
              "      <td>0.298371</td>\n",
              "      <td>-0.224991</td>\n",
              "      <td>-0.159268</td>\n",
              "      <td>-0.232477</td>\n",
              "      <td>1.000000</td>\n",
              "    </tr>\n",
              "  </tbody>\n",
              "</table>\n",
              "</div>\n",
              "      <button class=\"colab-df-convert\" onclick=\"convertToInteractive('df-e7eb733c-fe22-4df8-a246-a3366ebc3fd4')\"\n",
              "              title=\"Convert this dataframe to an interactive table.\"\n",
              "              style=\"display:none;\">\n",
              "        \n",
              "  <svg xmlns=\"http://www.w3.org/2000/svg\" height=\"24px\"viewBox=\"0 0 24 24\"\n",
              "       width=\"24px\">\n",
              "    <path d=\"M0 0h24v24H0V0z\" fill=\"none\"/>\n",
              "    <path d=\"M18.56 5.44l.94 2.06.94-2.06 2.06-.94-2.06-.94-.94-2.06-.94 2.06-2.06.94zm-11 1L8.5 8.5l.94-2.06 2.06-.94-2.06-.94L8.5 2.5l-.94 2.06-2.06.94zm10 10l.94 2.06.94-2.06 2.06-.94-2.06-.94-.94-2.06-.94 2.06-2.06.94z\"/><path d=\"M17.41 7.96l-1.37-1.37c-.4-.4-.92-.59-1.43-.59-.52 0-1.04.2-1.43.59L10.3 9.45l-7.72 7.72c-.78.78-.78 2.05 0 2.83L4 21.41c.39.39.9.59 1.41.59.51 0 1.02-.2 1.41-.59l7.78-7.78 2.81-2.81c.8-.78.8-2.07 0-2.86zM5.41 20L4 18.59l7.72-7.72 1.47 1.35L5.41 20z\"/>\n",
              "  </svg>\n",
              "      </button>\n",
              "      \n",
              "  <style>\n",
              "    .colab-df-container {\n",
              "      display:flex;\n",
              "      flex-wrap:wrap;\n",
              "      gap: 12px;\n",
              "    }\n",
              "\n",
              "    .colab-df-convert {\n",
              "      background-color: #E8F0FE;\n",
              "      border: none;\n",
              "      border-radius: 50%;\n",
              "      cursor: pointer;\n",
              "      display: none;\n",
              "      fill: #1967D2;\n",
              "      height: 32px;\n",
              "      padding: 0 0 0 0;\n",
              "      width: 32px;\n",
              "    }\n",
              "\n",
              "    .colab-df-convert:hover {\n",
              "      background-color: #E2EBFA;\n",
              "      box-shadow: 0px 1px 2px rgba(60, 64, 67, 0.3), 0px 1px 3px 1px rgba(60, 64, 67, 0.15);\n",
              "      fill: #174EA6;\n",
              "    }\n",
              "\n",
              "    [theme=dark] .colab-df-convert {\n",
              "      background-color: #3B4455;\n",
              "      fill: #D2E3FC;\n",
              "    }\n",
              "\n",
              "    [theme=dark] .colab-df-convert:hover {\n",
              "      background-color: #434B5C;\n",
              "      box-shadow: 0px 1px 3px 1px rgba(0, 0, 0, 0.15);\n",
              "      filter: drop-shadow(0px 1px 2px rgba(0, 0, 0, 0.3));\n",
              "      fill: #FFFFFF;\n",
              "    }\n",
              "  </style>\n",
              "\n",
              "      <script>\n",
              "        const buttonEl =\n",
              "          document.querySelector('#df-e7eb733c-fe22-4df8-a246-a3366ebc3fd4 button.colab-df-convert');\n",
              "        buttonEl.style.display =\n",
              "          google.colab.kernel.accessAllowed ? 'block' : 'none';\n",
              "\n",
              "        async function convertToInteractive(key) {\n",
              "          const element = document.querySelector('#df-e7eb733c-fe22-4df8-a246-a3366ebc3fd4');\n",
              "          const dataTable =\n",
              "            await google.colab.kernel.invokeFunction('convertToInteractive',\n",
              "                                                     [key], {});\n",
              "          if (!dataTable) return;\n",
              "\n",
              "          const docLinkHtml = 'Like what you see? Visit the ' +\n",
              "            '<a target=\"_blank\" href=https://colab.research.google.com/notebooks/data_table.ipynb>data table notebook</a>'\n",
              "            + ' to learn more about interactive tables.';\n",
              "          element.innerHTML = '';\n",
              "          dataTable['output_type'] = 'display_data';\n",
              "          await google.colab.output.renderOutput(dataTable, element);\n",
              "          const docLink = document.createElement('div');\n",
              "          docLink.innerHTML = docLinkHtml;\n",
              "          element.appendChild(docLink);\n",
              "        }\n",
              "      </script>\n",
              "    </div>\n",
              "  </div>\n",
              "  "
            ]
          },
          "metadata": {},
          "execution_count": 17
        }
      ],
      "source": [
        "veichles.corr()\n"
      ]
    },
    {
      "cell_type": "markdown",
      "id": "43733dbb",
      "metadata": {
        "id": "43733dbb"
      },
      "source": [
        "### Dealing with null values"
      ]
    },
    {
      "cell_type": "code",
      "execution_count": 18,
      "id": "4656f151",
      "metadata": {
        "id": "4656f151",
        "colab": {
          "base_uri": "https://localhost:8080/",
          "height": 409
        },
        "outputId": "a137e039-d0db-4827-f40e-a54c99339691"
      },
      "outputs": [
        {
          "output_type": "stream",
          "name": "stdout",
          "text": [
            "Rows with 'NA' in both \n",
            " citympy and highwaympg are:- 0. \n",
            " cylinders and displacement are:- 0\n"
          ]
        },
        {
          "output_type": "execute_result",
          "data": {
            "text/plain": [
              "    citympg  cylinders  displacement     drive  highwaympg      make  \\\n",
              "0 -0.789719   0.386147      0.554526 -3.235479   -0.833897     Buick   \n",
              "1 -0.789719   1.150361      1.216338 -3.235479   -0.659052     Buick   \n",
              "2  0.104514   1.150361      1.731081 -3.235479    0.390016     Buick   \n",
              "3  0.775189   0.386147      0.701595  1.072590    1.264239  Cadillac   \n",
              "4 -0.789719   1.150361      0.554526  1.072590   -0.833897  Cadillac   \n",
              "\n",
              "                     model     class      year  transmissiontype  \\\n",
              "0      Electra/Park Avenue -0.997589 -1.623836         -0.696063   \n",
              "1      Electra/Park Avenue -0.997589 -1.623836         -0.696063   \n",
              "2      Electra/Park Avenue -0.997589 -1.623836         -0.696063   \n",
              "3  Fleetwood/DeVille (FWD) -0.997589 -1.623836         -0.696063   \n",
              "4   Brougham/DeVille (RWD) -0.997589 -1.623836         -0.696063   \n",
              "\n",
              "   transmissionspeeds  co2emissions  \n",
              "0           -0.777278      0.669725  \n",
              "1           -0.777278      0.669725  \n",
              "2           -0.777278      0.069711  \n",
              "3           -0.777278     -0.444725  \n",
              "4           -0.777278      0.669725  "
            ],
            "text/html": [
              "\n",
              "  <div id=\"df-058cb7f4-fd81-490b-96c7-825d3d195892\">\n",
              "    <div class=\"colab-df-container\">\n",
              "      <div>\n",
              "<style scoped>\n",
              "    .dataframe tbody tr th:only-of-type {\n",
              "        vertical-align: middle;\n",
              "    }\n",
              "\n",
              "    .dataframe tbody tr th {\n",
              "        vertical-align: top;\n",
              "    }\n",
              "\n",
              "    .dataframe thead th {\n",
              "        text-align: right;\n",
              "    }\n",
              "</style>\n",
              "<table border=\"1\" class=\"dataframe\">\n",
              "  <thead>\n",
              "    <tr style=\"text-align: right;\">\n",
              "      <th></th>\n",
              "      <th>citympg</th>\n",
              "      <th>cylinders</th>\n",
              "      <th>displacement</th>\n",
              "      <th>drive</th>\n",
              "      <th>highwaympg</th>\n",
              "      <th>make</th>\n",
              "      <th>model</th>\n",
              "      <th>class</th>\n",
              "      <th>year</th>\n",
              "      <th>transmissiontype</th>\n",
              "      <th>transmissionspeeds</th>\n",
              "      <th>co2emissions</th>\n",
              "    </tr>\n",
              "  </thead>\n",
              "  <tbody>\n",
              "    <tr>\n",
              "      <th>0</th>\n",
              "      <td>-0.789719</td>\n",
              "      <td>0.386147</td>\n",
              "      <td>0.554526</td>\n",
              "      <td>-3.235479</td>\n",
              "      <td>-0.833897</td>\n",
              "      <td>Buick</td>\n",
              "      <td>Electra/Park Avenue</td>\n",
              "      <td>-0.997589</td>\n",
              "      <td>-1.623836</td>\n",
              "      <td>-0.696063</td>\n",
              "      <td>-0.777278</td>\n",
              "      <td>0.669725</td>\n",
              "    </tr>\n",
              "    <tr>\n",
              "      <th>1</th>\n",
              "      <td>-0.789719</td>\n",
              "      <td>1.150361</td>\n",
              "      <td>1.216338</td>\n",
              "      <td>-3.235479</td>\n",
              "      <td>-0.659052</td>\n",
              "      <td>Buick</td>\n",
              "      <td>Electra/Park Avenue</td>\n",
              "      <td>-0.997589</td>\n",
              "      <td>-1.623836</td>\n",
              "      <td>-0.696063</td>\n",
              "      <td>-0.777278</td>\n",
              "      <td>0.669725</td>\n",
              "    </tr>\n",
              "    <tr>\n",
              "      <th>2</th>\n",
              "      <td>0.104514</td>\n",
              "      <td>1.150361</td>\n",
              "      <td>1.731081</td>\n",
              "      <td>-3.235479</td>\n",
              "      <td>0.390016</td>\n",
              "      <td>Buick</td>\n",
              "      <td>Electra/Park Avenue</td>\n",
              "      <td>-0.997589</td>\n",
              "      <td>-1.623836</td>\n",
              "      <td>-0.696063</td>\n",
              "      <td>-0.777278</td>\n",
              "      <td>0.069711</td>\n",
              "    </tr>\n",
              "    <tr>\n",
              "      <th>3</th>\n",
              "      <td>0.775189</td>\n",
              "      <td>0.386147</td>\n",
              "      <td>0.701595</td>\n",
              "      <td>1.072590</td>\n",
              "      <td>1.264239</td>\n",
              "      <td>Cadillac</td>\n",
              "      <td>Fleetwood/DeVille (FWD)</td>\n",
              "      <td>-0.997589</td>\n",
              "      <td>-1.623836</td>\n",
              "      <td>-0.696063</td>\n",
              "      <td>-0.777278</td>\n",
              "      <td>-0.444725</td>\n",
              "    </tr>\n",
              "    <tr>\n",
              "      <th>4</th>\n",
              "      <td>-0.789719</td>\n",
              "      <td>1.150361</td>\n",
              "      <td>0.554526</td>\n",
              "      <td>1.072590</td>\n",
              "      <td>-0.833897</td>\n",
              "      <td>Cadillac</td>\n",
              "      <td>Brougham/DeVille (RWD)</td>\n",
              "      <td>-0.997589</td>\n",
              "      <td>-1.623836</td>\n",
              "      <td>-0.696063</td>\n",
              "      <td>-0.777278</td>\n",
              "      <td>0.669725</td>\n",
              "    </tr>\n",
              "  </tbody>\n",
              "</table>\n",
              "</div>\n",
              "      <button class=\"colab-df-convert\" onclick=\"convertToInteractive('df-058cb7f4-fd81-490b-96c7-825d3d195892')\"\n",
              "              title=\"Convert this dataframe to an interactive table.\"\n",
              "              style=\"display:none;\">\n",
              "        \n",
              "  <svg xmlns=\"http://www.w3.org/2000/svg\" height=\"24px\"viewBox=\"0 0 24 24\"\n",
              "       width=\"24px\">\n",
              "    <path d=\"M0 0h24v24H0V0z\" fill=\"none\"/>\n",
              "    <path d=\"M18.56 5.44l.94 2.06.94-2.06 2.06-.94-2.06-.94-.94-2.06-.94 2.06-2.06.94zm-11 1L8.5 8.5l.94-2.06 2.06-.94-2.06-.94L8.5 2.5l-.94 2.06-2.06.94zm10 10l.94 2.06.94-2.06 2.06-.94-2.06-.94-.94-2.06-.94 2.06-2.06.94z\"/><path d=\"M17.41 7.96l-1.37-1.37c-.4-.4-.92-.59-1.43-.59-.52 0-1.04.2-1.43.59L10.3 9.45l-7.72 7.72c-.78.78-.78 2.05 0 2.83L4 21.41c.39.39.9.59 1.41.59.51 0 1.02-.2 1.41-.59l7.78-7.78 2.81-2.81c.8-.78.8-2.07 0-2.86zM5.41 20L4 18.59l7.72-7.72 1.47 1.35L5.41 20z\"/>\n",
              "  </svg>\n",
              "      </button>\n",
              "      \n",
              "  <style>\n",
              "    .colab-df-container {\n",
              "      display:flex;\n",
              "      flex-wrap:wrap;\n",
              "      gap: 12px;\n",
              "    }\n",
              "\n",
              "    .colab-df-convert {\n",
              "      background-color: #E8F0FE;\n",
              "      border: none;\n",
              "      border-radius: 50%;\n",
              "      cursor: pointer;\n",
              "      display: none;\n",
              "      fill: #1967D2;\n",
              "      height: 32px;\n",
              "      padding: 0 0 0 0;\n",
              "      width: 32px;\n",
              "    }\n",
              "\n",
              "    .colab-df-convert:hover {\n",
              "      background-color: #E2EBFA;\n",
              "      box-shadow: 0px 1px 2px rgba(60, 64, 67, 0.3), 0px 1px 3px 1px rgba(60, 64, 67, 0.15);\n",
              "      fill: #174EA6;\n",
              "    }\n",
              "\n",
              "    [theme=dark] .colab-df-convert {\n",
              "      background-color: #3B4455;\n",
              "      fill: #D2E3FC;\n",
              "    }\n",
              "\n",
              "    [theme=dark] .colab-df-convert:hover {\n",
              "      background-color: #434B5C;\n",
              "      box-shadow: 0px 1px 3px 1px rgba(0, 0, 0, 0.15);\n",
              "      filter: drop-shadow(0px 1px 2px rgba(0, 0, 0, 0.3));\n",
              "      fill: #FFFFFF;\n",
              "    }\n",
              "  </style>\n",
              "\n",
              "      <script>\n",
              "        const buttonEl =\n",
              "          document.querySelector('#df-058cb7f4-fd81-490b-96c7-825d3d195892 button.colab-df-convert');\n",
              "        buttonEl.style.display =\n",
              "          google.colab.kernel.accessAllowed ? 'block' : 'none';\n",
              "\n",
              "        async function convertToInteractive(key) {\n",
              "          const element = document.querySelector('#df-058cb7f4-fd81-490b-96c7-825d3d195892');\n",
              "          const dataTable =\n",
              "            await google.colab.kernel.invokeFunction('convertToInteractive',\n",
              "                                                     [key], {});\n",
              "          if (!dataTable) return;\n",
              "\n",
              "          const docLinkHtml = 'Like what you see? Visit the ' +\n",
              "            '<a target=\"_blank\" href=https://colab.research.google.com/notebooks/data_table.ipynb>data table notebook</a>'\n",
              "            + ' to learn more about interactive tables.';\n",
              "          element.innerHTML = '';\n",
              "          dataTable['output_type'] = 'display_data';\n",
              "          await google.colab.output.renderOutput(dataTable, element);\n",
              "          const docLink = document.createElement('div');\n",
              "          docLink.innerHTML = docLinkHtml;\n",
              "          element.appendChild(docLink);\n",
              "        }\n",
              "      </script>\n",
              "    </div>\n",
              "  </div>\n",
              "  "
            ]
          },
          "metadata": {},
          "execution_count": 18
        }
      ],
      "source": [
        "mask = veichles['citympg'].isnull() & veichles['highwaympg'].isnull()\n",
        "mask0 = veichles['citympg'].isnull() & veichles['highwaympg'].isnull()\n",
        "\n",
        "print('Rows with \\'NA\\' in both \\n citympy and highwaympg are:- {}. \\n cylinders and displacement are:- {}'.format(mask.sum(), mask0.sum()))\n",
        "\n",
        "# function to derive values for NA values in the data from features with high correlation\n",
        "def fillna_value(y):\n",
        "    x,y = None,None\n",
        "    \n",
        "    \n",
        "    if y == 'citympg':        \n",
        "        x = veichles['highwaympg'].dropna().to_numpy()\n",
        "        y = veichles['citympg'].dropna().to_numpy()\n",
        "        x.resize(y.shape)\n",
        "        y.resize(y.shape)\n",
        "                \n",
        "    elif y == 'highwaympg':      \n",
        "        x = veichles['citympg'].dropna().to_numpy()\n",
        "        y = veichles['highwaympg'].dropna().to_numpy()\n",
        "        x.resize(x.shape)\n",
        "        y.resize(x.shape)\n",
        "    else:        \n",
        "        x = veichles['cylinders'].dropna().to_numpy()\n",
        "        y = veichles['displacement'].dropna().to_numpy()\n",
        "        x.resize(y.shape)\n",
        "        y.resize(y.shape)\n",
        "    a,b ,c ,d ,e = stats.linregress(x, y)   \n",
        "    return lambda x : x*a + b\n",
        "\n",
        "\n",
        "veichles.fillna({'citympg': fillna_value('citympg')(veichles['highwaympg']),\n",
        "                 'highwaympg': fillna_value('highwaympg')(veichles['citympg']),\n",
        "                 'displacement': fillna_value('displacement')(veichles['cylinders']),\n",
        "                }, inplace = True)\n",
        "\n",
        "veichles.head()"
      ]
    },
    {
      "cell_type": "markdown",
      "id": "da333b24",
      "metadata": {
        "id": "da333b24"
      },
      "source": [
        "### Performing feature reduction with feature the model wont rely on that much"
      ]
    },
    {
      "cell_type": "code",
      "execution_count": 19,
      "id": "44744cb6",
      "metadata": {
        "id": "44744cb6"
      },
      "outputs": [],
      "source": [
        "veichles.drop(['model','make','class'], axis = 1 ,inplace = True)\n",
        "le2 = LabelEncoder()\n",
        "veichles['co2_range'] = le2.fit_transform(pd.cut(veichles['co2emissions'], bins = [-6.498927e-01,6.697254e-01,6.732510e+0]))\n",
        "# sns.pairplot(veichles, hue = 'co2_range')"
      ]
    },
    {
      "cell_type": "code",
      "execution_count": 20,
      "id": "1dd99f20",
      "metadata": {
        "id": "1dd99f20",
        "colab": {
          "base_uri": "https://localhost:8080/",
          "height": 461
        },
        "outputId": "fb64b9ef-ab62-4b58-ae53-5d2c7f8d8bc7"
      },
      "outputs": [
        {
          "output_type": "execute_result",
          "data": {
            "text/plain": [
              "<Axes: xlabel='co2_range'>"
            ]
          },
          "metadata": {},
          "execution_count": 20
        },
        {
          "output_type": "display_data",
          "data": {
            "text/plain": [
              "<Figure size 640x480 with 1 Axes>"
            ],
            "image/png": "[encoded data removed]"
          },
          "metadata": {}
        }
      ],
      "source": [
        "veichles.groupby('co2_range')['co2emissions'].mean().plot(kind = 'bar')"
      ]
    },
    {
      "cell_type": "markdown",
      "id": "35675b0c",
      "metadata": {
        "id": "35675b0c"
      },
      "source": [
        "# Working On Models"
      ]
    },
    {
      "cell_type": "markdown",
      "id": "86a89fa1",
      "metadata": {
        "id": "86a89fa1"
      },
      "source": [
        "### Spliting the data"
      ]
    },
    {
      "cell_type": "code",
      "execution_count": 21,
      "id": "71645151",
      "metadata": {
        "id": "71645151"
      },
      "outputs": [],
      "source": [
        "from sklearn.model_selection import train_test_split\n",
        "\n",
        "X = veichles.iloc[:,:8]\n",
        "Y = veichles.iloc[:,8:]\n",
        "\n",
        "x_train,x_test,y_train, y_test = train_test_split(X,Y, random_state = 29, test_size = .25)\n"
      ]
    },
    {
      "cell_type": "markdown",
      "id": "76add795",
      "metadata": {
        "id": "76add795"
      },
      "source": [
        "## logistic Regressor "
      ]
    },
    {
      "cell_type": "code",
      "execution_count": 22,
      "id": "2b35d9c4",
      "metadata": {
        "id": "2b35d9c4",
        "colab": {
          "base_uri": "https://localhost:8080/",
          "height": 75
        },
        "outputId": "19bd2fe1-d6a5-4520-e62d-5da966486e5e"
      },
      "outputs": [
        {
          "output_type": "execute_result",
          "data": {
            "text/plain": [
              "LogisticRegression(random_state=1)"
            ],
            "text/html": [
              "<style>#sk-container-id-1 {color: black;background-color: white;}#sk-container-id-1 pre{padding: 0;}#sk-container-id-1 div.sk-toggleable {background-color: white;}#sk-container-id-1 label.sk-toggleable__label {cursor: pointer;display: block;width: 100%;margin-bottom: 0;padding: 0.3em;box-sizing: border-box;text-align: center;}#sk-container-id-1 label.sk-toggleable__label-arrow:before {content: \"▸\";float: left;margin-right: 0.25em;color: #696969;}#sk-container-id-1 label.sk-toggleable__label-arrow:hover:before {color: black;}#sk-container-id-1 div.sk-estimator:hover label.sk-toggleable__label-arrow:before {color: black;}#sk-container-id-1 div.sk-toggleable__content {max-height: 0;max-width: 0;overflow: hidden;text-align: left;background-color: #f0f8ff;}#sk-container-id-1 div.sk-toggleable__content pre {margin: 0.2em;color: black;border-radius: 0.25em;background-color: #f0f8ff;}#sk-container-id-1 input.sk-toggleable__control:checked~div.sk-toggleable__content {max-height: 200px;max-width: 100%;overflow: auto;}#sk-container-id-1 input.sk-toggleable__control:checked~label.sk-toggleable__label-arrow:before {content: \"▾\";}#sk-container-id-1 div.sk-estimator input.sk-toggleable__control:checked~label.sk-toggleable__label {background-color: #d4ebff;}#sk-container-id-1 div.sk-label input.sk-toggleable__control:checked~label.sk-toggleable__label {background-color: #d4ebff;}#sk-container-id-1 input.sk-hidden--visually {border: 0;clip: rect(1px 1px 1px 1px);clip: rect(1px, 1px, 1px, 1px);height: 1px;margin: -1px;overflow: hidden;padding: 0;position: absolute;width: 1px;}#sk-container-id-1 div.sk-estimator {font-family: monospace;background-color: #f0f8ff;border: 1px dotted black;border-radius: 0.25em;box-sizing: border-box;margin-bottom: 0.5em;}#sk-container-id-1 div.sk-estimator:hover {background-color: #d4ebff;}#sk-container-id-1 div.sk-parallel-item::after {content: \"\";width: 100%;border-bottom: 1px solid gray;flex-grow: 1;}#sk-container-id-1 div.sk-label:hover label.sk-toggleable__label {background-color: #d4ebff;}#sk-container-id-1 div.sk-serial::before {content: \"\";position: absolute;border-left: 1px solid gray;box-sizing: border-box;top: 0;bottom: 0;left: 50%;z-index: 0;}#sk-container-id-1 div.sk-serial {display: flex;flex-direction: column;align-items: center;background-color: white;padding-right: 0.2em;padding-left: 0.2em;position: relative;}#sk-container-id-1 div.sk-item {position: relative;z-index: 1;}#sk-container-id-1 div.sk-parallel {display: flex;align-items: stretch;justify-content: center;background-color: white;position: relative;}#sk-container-id-1 div.sk-item::before, #sk-container-id-1 div.sk-parallel-item::before {content: \"\";position: absolute;border-left: 1px solid gray;box-sizing: border-box;top: 0;bottom: 0;left: 50%;z-index: -1;}#sk-container-id-1 div.sk-parallel-item {display: flex;flex-direction: column;z-index: 1;position: relative;background-color: white;}#sk-container-id-1 div.sk-parallel-item:first-child::after {align-self: flex-end;width: 50%;}#sk-container-id-1 div.sk-parallel-item:last-child::after {align-self: flex-start;width: 50%;}#sk-container-id-1 div.sk-parallel-item:only-child::after {width: 0;}#sk-container-id-1 div.sk-dashed-wrapped {border: 1px dashed gray;margin: 0 0.4em 0.5em 0.4em;box-sizing: border-box;padding-bottom: 0.4em;background-color: white;}#sk-container-id-1 div.sk-label label {font-family: monospace;font-weight: bold;display: inline-block;line-height: 1.2em;}#sk-container-id-1 div.sk-label-container {text-align: center;}#sk-container-id-1 div.sk-container {/* jupyter's `normalize.less` sets `[hidden] { display: none; }` but bootstrap.min.css set `[hidden] { display: none !important; }` so we also need the `!important` here to be able to override the default hidden behavior on the sphinx rendered scikit-learn.org. See: https://github.com/scikit-learn/scikit-learn/issues/21755 */display: inline-block !important;position: relative;}#sk-container-id-1 div.sk-text-repr-fallback {display: none;}</style><div id=\"sk-container-id-1\" class=\"sk-top-container\"><div class=\"sk-text-repr-fallback\"><pre>LogisticRegression(random_state=1)</pre><b>In a Jupyter environment, please rerun this cell to show the HTML representation or trust the notebook. <br />On GitHub, the HTML representation is unable to render, please try loading this page with nbviewer.org.</b></div><div class=\"sk-container\" hidden><div class=\"sk-item\"><div class=\"sk-estimator sk-toggleable\"><input class=\"sk-toggleable__control sk-hidden--visually\" id=\"sk-estimator-id-1\" type=\"checkbox\" checked><label for=\"sk-estimator-id-1\" class=\"sk-toggleable__label sk-toggleable__label-arrow\">LogisticRegression</label><div class=\"sk-toggleable__content\"><pre>LogisticRegression(random_state=1)</pre></div></div></div></div></div>"
            ]
          },
          "metadata": {},
          "execution_count": 22
        }
      ],
      "source": [
        "from sklearn.linear_model import LogisticRegression, LinearRegression\n",
        "from sklearn.metrics import accuracy_score, confusion_matrix, classification_report, mean_squared_error, mean_absolute_error\n",
        "LoR = LogisticRegression(random_state = 1)\n",
        "LoR.fit(x_train,y_train['co2_range'])"
      ]
    },
    {
      "cell_type": "code",
      "execution_count": 23,
      "id": "f214a082",
      "metadata": {
        "id": "f214a082",
        "colab": {
          "base_uri": "https://localhost:8080/"
        },
        "outputId": "2be6c3ef-084e-4b33-b019-1d420d0bf074"
      },
      "outputs": [
        {
          "output_type": "stream",
          "name": "stdout",
          "text": [
            "Model accuracy_score :  96.64683612763656\n",
            "Model mean_squared_error :  6.500811249323959\n",
            "Model mean_absolute_error:  4.402379664683613\n"
          ]
        }
      ],
      "source": [
        "y_pred = LoR.predict(x_test)\n",
        "print('Model accuracy_score : ', accuracy_score(y_test['co2_range'],y_pred)*100)\n",
        "print('Model mean_squared_error : ', mean_squared_error(y_test['co2_range'],y_pred)*100)\n",
        "print('Model mean_absolute_error: ', mean_absolute_error(y_test['co2_range'],y_pred)*100)\n"
      ]
    },
    {
      "cell_type": "code",
      "execution_count": 24,
      "id": "a326fde7",
      "metadata": {
        "id": "a326fde7",
        "colab": {
          "base_uri": "https://localhost:8080/",
          "height": 87
        },
        "outputId": "50e341a3-207d-44d5-83d9-d4d030ac9503"
      },
      "outputs": [
        {
          "output_type": "execute_result",
          "data": {
            "text/plain": [
              "'              precision    recall  f1-score   support\\n\\n           0       0.97      0.97      0.97      5078\\n           1       0.95      0.94      0.94      1837\\n           2       0.98      0.98      0.98      2330\\n\\n    accuracy                           0.97      9245\\n   macro avg       0.96      0.96      0.96      9245\\nweighted avg       0.97      0.97      0.97      9245\\n'"
            ],
            "application/vnd.google.colaboratory.intrinsic+json": {
              "type": "string"
            }
          },
          "metadata": {},
          "execution_count": 24
        }
      ],
      "source": [
        "classification_report(y_test['co2_range'],y_pred)"
      ]
    },
    {
      "cell_type": "markdown",
      "id": "192f5d11",
      "metadata": {
        "id": "192f5d11"
      },
      "source": [
        "## Linear Regressor"
      ]
    },
    {
      "cell_type": "code",
      "execution_count": 25,
      "id": "d317b0b6",
      "metadata": {
        "id": "d317b0b6",
        "colab": {
          "base_uri": "https://localhost:8080/",
          "height": 75
        },
        "outputId": "6c23c063-49c1-4e81-fd99-9bda42612bd9"
      },
      "outputs": [
        {
          "output_type": "execute_result",
          "data": {
            "text/plain": [
              "LinearRegression()"
            ],
            "text/html": [
              "<style>#sk-container-id-2 {color: black;background-color: white;}#sk-container-id-2 pre{padding: 0;}#sk-container-id-2 div.sk-toggleable {background-color: white;}#sk-container-id-2 label.sk-toggleable__label {cursor: pointer;display: block;width: 100%;margin-bottom: 0;padding: 0.3em;box-sizing: border-box;text-align: center;}#sk-container-id-2 label.sk-toggleable__label-arrow:before {content: \"▸\";float: left;margin-right: 0.25em;color: #696969;}#sk-container-id-2 label.sk-toggleable__label-arrow:hover:before {color: black;}#sk-container-id-2 div.sk-estimator:hover label.sk-toggleable__label-arrow:before {color: black;}#sk-container-id-2 div.sk-toggleable__content {max-height: 0;max-width: 0;overflow: hidden;text-align: left;background-color: #f0f8ff;}#sk-container-id-2 div.sk-toggleable__content pre {margin: 0.2em;color: black;border-radius: 0.25em;background-color: #f0f8ff;}#sk-container-id-2 input.sk-toggleable__control:checked~div.sk-toggleable__content {max-height: 200px;max-width: 100%;overflow: auto;}#sk-container-id-2 input.sk-toggleable__control:checked~label.sk-toggleable__label-arrow:before {content: \"▾\";}#sk-container-id-2 div.sk-estimator input.sk-toggleable__control:checked~label.sk-toggleable__label {background-color: #d4ebff;}#sk-container-id-2 div.sk-label input.sk-toggleable__control:checked~label.sk-toggleable__label {background-color: #d4ebff;}#sk-container-id-2 input.sk-hidden--visually {border: 0;clip: rect(1px 1px 1px 1px);clip: rect(1px, 1px, 1px, 1px);height: 1px;margin: -1px;overflow: hidden;padding: 0;position: absolute;width: 1px;}#sk-container-id-2 div.sk-estimator {font-family: monospace;background-color: #f0f8ff;border: 1px dotted black;border-radius: 0.25em;box-sizing: border-box;margin-bottom: 0.5em;}#sk-container-id-2 div.sk-estimator:hover {background-color: #d4ebff;}#sk-container-id-2 div.sk-parallel-item::after {content: \"\";width: 100%;border-bottom: 1px solid gray;flex-grow: 1;}#sk-container-id-2 div.sk-label:hover label.sk-toggleable__label {background-color: #d4ebff;}#sk-container-id-2 div.sk-serial::before {content: \"\";position: absolute;border-left: 1px solid gray;box-sizing: border-box;top: 0;bottom: 0;left: 50%;z-index: 0;}#sk-container-id-2 div.sk-serial {display: flex;flex-direction: column;align-items: center;background-color: white;padding-right: 0.2em;padding-left: 0.2em;position: relative;}#sk-container-id-2 div.sk-item {position: relative;z-index: 1;}#sk-container-id-2 div.sk-parallel {display: flex;align-items: stretch;justify-content: center;background-color: white;position: relative;}#sk-container-id-2 div.sk-item::before, #sk-container-id-2 div.sk-parallel-item::before {content: \"\";position: absolute;border-left: 1px solid gray;box-sizing: border-box;top: 0;bottom: 0;left: 50%;z-index: -1;}#sk-container-id-2 div.sk-parallel-item {display: flex;flex-direction: column;z-index: 1;position: relative;background-color: white;}#sk-container-id-2 div.sk-parallel-item:first-child::after {align-self: flex-end;width: 50%;}#sk-container-id-2 div.sk-parallel-item:last-child::after {align-self: flex-start;width: 50%;}#sk-container-id-2 div.sk-parallel-item:only-child::after {width: 0;}#sk-container-id-2 div.sk-dashed-wrapped {border: 1px dashed gray;margin: 0 0.4em 0.5em 0.4em;box-sizing: border-box;padding-bottom: 0.4em;background-color: white;}#sk-container-id-2 div.sk-label label {font-family: monospace;font-weight: bold;display: inline-block;line-height: 1.2em;}#sk-container-id-2 div.sk-label-container {text-align: center;}#sk-container-id-2 div.sk-container {/* jupyter's `normalize.less` sets `[hidden] { display: none; }` but bootstrap.min.css set `[hidden] { display: none !important; }` so we also need the `!important` here to be able to override the default hidden behavior on the sphinx rendered scikit-learn.org. See: https://github.com/scikit-learn/scikit-learn/issues/21755 */display: inline-block !important;position: relative;}#sk-container-id-2 div.sk-text-repr-fallback {display: none;}</style><div id=\"sk-container-id-2\" class=\"sk-top-container\"><div class=\"sk-text-repr-fallback\"><pre>LinearRegression()</pre><b>In a Jupyter environment, please rerun this cell to show the HTML representation or trust the notebook. <br />On GitHub, the HTML representation is unable to render, please try loading this page with nbviewer.org.</b></div><div class=\"sk-container\" hidden><div class=\"sk-item\"><div class=\"sk-estimator sk-toggleable\"><input class=\"sk-toggleable__control sk-hidden--visually\" id=\"sk-estimator-id-2\" type=\"checkbox\" checked><label for=\"sk-estimator-id-2\" class=\"sk-toggleable__label sk-toggleable__label-arrow\">LinearRegression</label><div class=\"sk-toggleable__content\"><pre>LinearRegression()</pre></div></div></div></div></div>"
            ]
          },
          "metadata": {},
          "execution_count": 25
        }
      ],
      "source": [
        "LiR = LinearRegression()\n",
        "LiR.fit(x_train.drop(['transmissiontype','year'], axis = 1),y_train['co2emissions'])\n",
        "# rom sklearn.linear_model import LinearRegression\n",
        "# reg = LinearRegression()\n",
        "# parameters = {\"alpha\": [1, 10, 100, 290, 500], \"fit_intercept\": [True, False], \"solver\": ['svd', 'cholesky', 'lsqr', 'sparse_cg', 'sag', 'saga'], }\n",
        "# grid = GridSearchCV(estimator=reg, param_grid = parameters, cv = 2, n_jobs=-1)\n",
        "# grid.fit(x_train, y_train)\n",
        "# reg.score(x_test ..."
      ]
    },
    {
      "cell_type": "code",
      "execution_count": 26,
      "id": "e53d5479",
      "metadata": {
        "id": "e53d5479",
        "colab": {
          "base_uri": "https://localhost:8080/"
        },
        "outputId": "619ef5e0-84e9-4af2-ce08-2e2bcc34320b"
      },
      "outputs": [
        {
          "output_type": "stream",
          "name": "stdout",
          "text": [
            "model Mean_absolute_error :  0.2041343819963567\n",
            "model Mean_squared_error :  0.09654732236693382\n",
            "model R2_score :  0.9034927731081644\n"
          ]
        }
      ],
      "source": [
        "y_pred = LiR.predict(x_test.drop(['transmissiontype','year'], axis = 1))\n",
        "\n",
        "print('model Mean_absolute_error : ', mean_absolute_error(y_test['co2emissions'] , y_pred))\n",
        "print('model Mean_squared_error : ', mean_squared_error(y_test['co2emissions'] , y_pred))\n",
        "print('model R2_score : ', LiR.score(x_test.drop(['transmissiontype','year'], axis = 1), y_test['co2emissions'].to_numpy()))\n",
        "\n",
        "# plt.scatter(y_test['co2emissions'],y_pred)\n",
        "# plt.title('Y-predict Vs y-actual')\n",
        "# plt.xlabel('co2emissions')\n",
        "# plt.ylabel('predicted emmisions')"
      ]
    },
    {
      "cell_type": "markdown",
      "id": "a802d3fe",
      "metadata": {
        "id": "a802d3fe"
      },
      "source": [
        "# N.B\n",
        "### linear  and logistic models are provded as aready well turned models \n",
        "##### Furter turning of features only reduces model  performence "
      ]
    },
    {
      "cell_type": "markdown",
      "id": "597dbdf7",
      "metadata": {
        "id": "597dbdf7"
      },
      "source": [
        "## Decision Tree Usage"
      ]
    },
    {
      "cell_type": "markdown",
      "id": "93a69507",
      "metadata": {
        "id": "93a69507"
      },
      "source": [
        "#### Turning the Criterion Feature"
      ]
    },
    {
      "cell_type": "code",
      "execution_count": 27,
      "id": "9f4e02ae",
      "metadata": {
        "id": "9f4e02ae",
        "colab": {
          "base_uri": "https://localhost:8080/"
        },
        "outputId": "c90a337c-8a30-49e4-d47e-87c548ea6c77"
      },
      "outputs": [
        {
          "output_type": "execute_result",
          "data": {
            "text/plain": [
              "[0.9847485127095728, 0.9856138453217955, 0.9856138453217955]"
            ]
          },
          "metadata": {},
          "execution_count": 27
        }
      ],
      "source": [
        "from sklearn.tree import DecisionTreeClassifier, DecisionTreeRegressor\n",
        "criterion = ['gini', 'entropy', 'log_loss']\n",
        "criterion1 = []\n",
        "clf = DecisionTreeClassifier()\n",
        "\n",
        "for x in criterion:\n",
        "    clf = DecisionTreeClassifier( criterion = x )\n",
        "    clf.fit(x_train, y_train['co2_range'])\n",
        "    y_pred = clf.predict(x_test)\n",
        "    criterion1.append(accuracy_score(y_pred,y_test['co2_range']))\n",
        "criterion1"
      ]
    },
    {
      "cell_type": "markdown",
      "id": "6633feb3",
      "metadata": {
        "id": "6633feb3"
      },
      "source": [
        "### Fine Turning the Max_Depth paramerter"
      ]
    },
    {
      "cell_type": "code",
      "execution_count": 28,
      "id": "864b2073",
      "metadata": {
        "id": "864b2073"
      },
      "outputs": [],
      "source": [
        "clr = DecisionTreeRegressor()\n",
        "score = []\n",
        "depths = pd.DataFrame(range(7,52),columns = ['Max_depth'])\n",
        "\n",
        "for x in depths.values:\n",
        "    clr = DecisionTreeRegressor(max_depth = int(x))\n",
        "    clr.fit(x_train, y_train['co2emissions'])\n",
        "    y_pred = clf.predict(x_test)\n",
        "    score.append(clr.score(x_test, y_test['co2emissions']))\n",
        "    \n",
        "depths['Model_score'] = np.asarray(score).reshape(-1,1)\n"
      ]
    },
    {
      "cell_type": "code",
      "execution_count": 29,
      "id": "58ac2257",
      "metadata": {
        "id": "58ac2257",
        "colab": {
          "base_uri": "https://localhost:8080/",
          "height": 489
        },
        "outputId": "3229ed92-6354-491a-ed25-b828d2bcbfc6"
      },
      "outputs": [
        {
          "output_type": "execute_result",
          "data": {
            "text/plain": [
              "<Axes: title={'center': 'Line graph showing model perfomences with depth'}, xlabel='Max_depth'>"
            ]
          },
          "metadata": {},
          "execution_count": 29
        },
        {
          "output_type": "display_data",
          "data": {
            "text/plain": [
              "<Figure size 640x480 with 1 Axes>"
            ],
            "image/png": "[encoded data removed]"
          },
          "metadata": {}
        }
      ],
      "source": [
        "depths.plot(kind = 'line' ,x = 'Max_depth', y = 'Model_score',title = \"Line graph showing model perfomences with depth\")"
      ]
    },
    {
      "cell_type": "markdown",
      "id": "d299f920",
      "metadata": {
        "id": "d299f920"
      },
      "source": [
        "## Random forest regressor"
      ]
    },
    {
      "cell_type": "code",
      "execution_count": 30,
      "id": "b29cc8c2",
      "metadata": {
        "id": "b29cc8c2",
        "colab": {
          "base_uri": "https://localhost:8080/"
        },
        "outputId": "ae07261f-5123-475e-ea35-3d6cfdc03511"
      },
      "outputs": [
        {
          "output_type": "execute_result",
          "data": {
            "text/plain": [
              "{'bootstrap': True,\n",
              " 'ccp_alpha': 0.0,\n",
              " 'criterion': 'squared_error',\n",
              " 'max_depth': None,\n",
              " 'max_features': 1.0,\n",
              " 'max_leaf_nodes': None,\n",
              " 'max_samples': None,\n",
              " 'min_impurity_decrease': 0.0,\n",
              " 'min_samples_leaf': 1,\n",
              " 'min_samples_split': 2,\n",
              " 'min_weight_fraction_leaf': 0.0,\n",
              " 'n_estimators': 100,\n",
              " 'n_jobs': None,\n",
              " 'oob_score': False,\n",
              " 'random_state': None,\n",
              " 'verbose': 0,\n",
              " 'warm_start': False}"
            ]
          },
          "metadata": {},
          "execution_count": 30
        }
      ],
      "source": [
        "from sklearn.ensemble import RandomForestRegressor\n",
        "# rfr = RandomForestRegressor(criterion  ='entropy', max_leaf )\n",
        "rfr = RandomForestRegressor()\n",
        "rfr.fit(x_train,y_train['co2emissions'])\n",
        "rfr.get_params()"
      ]
    },
    {
      "cell_type": "code",
      "execution_count": 31,
      "id": "5a586cdc",
      "metadata": {
        "id": "5a586cdc"
      },
      "outputs": [],
      "source": [
        "from sklearn.metrics import r2_score\n",
        "y_pred = rfr.predict(x_test)"
      ]
    },
    {
      "cell_type": "markdown",
      "id": "d8e8ef73",
      "metadata": {
        "id": "d8e8ef73"
      },
      "source": [
        "### Random Forest model metrix using defualt parameters"
      ]
    },
    {
      "cell_type": "code",
      "execution_count": 32,
      "id": "94a5a56e",
      "metadata": {
        "id": "94a5a56e",
        "colab": {
          "base_uri": "https://localhost:8080/"
        },
        "outputId": "3865a3fa-d8b5-49cd-a8d1-3b12c76e6e9b"
      },
      "outputs": [
        {
          "output_type": "stream",
          "name": "stdout",
          "text": [
            "Data_stdeviation and Mean; 1.0002618103572678 -0.00784924263024403\n",
            "Predict_stdeviation and Mean  0.9970335002416393 -0.007454987840760684\n",
            "model's R2_score:  0.992961680932724\n"
          ]
        }
      ],
      "source": [
        "print('Data_stdeviation and Mean;', y_test['co2emissions'].std(), y_test['co2emissions'].mean() )\n",
        "print('Predict_stdeviation and Mean ',y_pred.std() , y_pred.mean())\n",
        "print('model\\'s R2_score: ', r2_score(y_test['co2emissions'],y_pred))\n"
      ]
    },
    {
      "cell_type": "markdown",
      "id": "9e3b54f4",
      "metadata": {
        "id": "9e3b54f4"
      },
      "source": [
        "### Using GridSearchCV Search basing on to  fine tune parameters\n",
        "                                                                                            21/U/08812/EVE"
      ]
    },
    {
      "cell_type": "code",
      "execution_count": 33,
      "id": "c947f1c7",
      "metadata": {
        "id": "c947f1c7"
      },
      "outputs": [],
      "source": [
        "from sklearn.model_selection import GridSearchCV\n",
        "\n",
        "param_grid = {\n",
        "    'n_estimators': [80, 170, 300],\n",
        "    'max_depth': [2, 3 , 7],\n",
        "    'min_samples_split': [3, 4, 7],\n",
        "    'min_samples_leaf': [2, 4],\n",
        "    'max_features': ['sqrt', 'log2']\n",
        "}\n",
        "\n",
        "gs_cv = GridSearchCV(estimator=rfr, param_grid=param_grid,\n",
        "                     cv=3, n_jobs=-1)\n"
      ]
    },
    {
      "cell_type": "code",
      "execution_count": 34,
      "id": "4d97e914",
      "metadata": {
        "id": "4d97e914",
        "colab": {
          "base_uri": "https://localhost:8080/",
          "height": 118
        },
        "outputId": "53786d6f-2250-4e7e-8e54-466b771a77f5"
      },
      "outputs": [
        {
          "output_type": "execute_result",
          "data": {
            "text/plain": [
              "GridSearchCV(cv=3, estimator=RandomForestRegressor(), n_jobs=3,\n",
              "             param_grid={'max_depth': [2, 3, 7],\n",
              "                         'max_features': ['sqrt', 'log2'],\n",
              "                         'min_samples_leaf': [2, 4],\n",
              "                         'min_samples_split': [3, 4, 7],\n",
              "                         'n_estimators': [80, 170, 300]})"
            ],
            "text/html": [
              "<style>#sk-container-id-3 {color: black;background-color: white;}#sk-container-id-3 pre{padding: 0;}#sk-container-id-3 div.sk-toggleable {background-color: white;}#sk-container-id-3 label.sk-toggleable__label {cursor: pointer;display: block;width: 100%;margin-bottom: 0;padding: 0.3em;box-sizing: border-box;text-align: center;}#sk-container-id-3 label.sk-toggleable__label-arrow:before {content: \"▸\";float: left;margin-right: 0.25em;color: #696969;}#sk-container-id-3 label.sk-toggleable__label-arrow:hover:before {color: black;}#sk-container-id-3 div.sk-estimator:hover label.sk-toggleable__label-arrow:before {color: black;}#sk-container-id-3 div.sk-toggleable__content {max-height: 0;max-width: 0;overflow: hidden;text-align: left;background-color: #f0f8ff;}#sk-container-id-3 div.sk-toggleable__content pre {margin: 0.2em;color: black;border-radius: 0.25em;background-color: #f0f8ff;}#sk-container-id-3 input.sk-toggleable__control:checked~div.sk-toggleable__content {max-height: 200px;max-width: 100%;overflow: auto;}#sk-container-id-3 input.sk-toggleable__control:checked~label.sk-toggleable__label-arrow:before {content: \"▾\";}#sk-container-id-3 div.sk-estimator input.sk-toggleable__control:checked~label.sk-toggleable__label {background-color: #d4ebff;}#sk-container-id-3 div.sk-label input.sk-toggleable__control:checked~label.sk-toggleable__label {background-color: #d4ebff;}#sk-container-id-3 input.sk-hidden--visually {border: 0;clip: rect(1px 1px 1px 1px);clip: rect(1px, 1px, 1px, 1px);height: 1px;margin: -1px;overflow: hidden;padding: 0;position: absolute;width: 1px;}#sk-container-id-3 div.sk-estimator {font-family: monospace;background-color: #f0f8ff;border: 1px dotted black;border-radius: 0.25em;box-sizing: border-box;margin-bottom: 0.5em;}#sk-container-id-3 div.sk-estimator:hover {background-color: #d4ebff;}#sk-container-id-3 div.sk-parallel-item::after {content: \"\";width: 100%;border-bottom: 1px solid gray;flex-grow: 1;}#sk-container-id-3 div.sk-label:hover label.sk-toggleable__label {background-color: #d4ebff;}#sk-container-id-3 div.sk-serial::before {content: \"\";position: absolute;border-left: 1px solid gray;box-sizing: border-box;top: 0;bottom: 0;left: 50%;z-index: 0;}#sk-container-id-3 div.sk-serial {display: flex;flex-direction: column;align-items: center;background-color: white;padding-right: 0.2em;padding-left: 0.2em;position: relative;}#sk-container-id-3 div.sk-item {position: relative;z-index: 1;}#sk-container-id-3 div.sk-parallel {display: flex;align-items: stretch;justify-content: center;background-color: white;position: relative;}#sk-container-id-3 div.sk-item::before, #sk-container-id-3 div.sk-parallel-item::before {content: \"\";position: absolute;border-left: 1px solid gray;box-sizing: border-box;top: 0;bottom: 0;left: 50%;z-index: -1;}#sk-container-id-3 div.sk-parallel-item {display: flex;flex-direction: column;z-index: 1;position: relative;background-color: white;}#sk-container-id-3 div.sk-parallel-item:first-child::after {align-self: flex-end;width: 50%;}#sk-container-id-3 div.sk-parallel-item:last-child::after {align-self: flex-start;width: 50%;}#sk-container-id-3 div.sk-parallel-item:only-child::after {width: 0;}#sk-container-id-3 div.sk-dashed-wrapped {border: 1px dashed gray;margin: 0 0.4em 0.5em 0.4em;box-sizing: border-box;padding-bottom: 0.4em;background-color: white;}#sk-container-id-3 div.sk-label label {font-family: monospace;font-weight: bold;display: inline-block;line-height: 1.2em;}#sk-container-id-3 div.sk-label-container {text-align: center;}#sk-container-id-3 div.sk-container {/* jupyter's `normalize.less` sets `[hidden] { display: none; }` but bootstrap.min.css set `[hidden] { display: none !important; }` so we also need the `!important` here to be able to override the default hidden behavior on the sphinx rendered scikit-learn.org. See: https://github.com/scikit-learn/scikit-learn/issues/21755 */display: inline-block !important;position: relative;}#sk-container-id-3 div.sk-text-repr-fallback {display: none;}</style><div id=\"sk-container-id-3\" class=\"sk-top-container\"><div class=\"sk-text-repr-fallback\"><pre>GridSearchCV(cv=3, estimator=RandomForestRegressor(), n_jobs=3,\n",
              "             param_grid={&#x27;max_depth&#x27;: [2, 3, 7],\n",
              "                         &#x27;max_features&#x27;: [&#x27;sqrt&#x27;, &#x27;log2&#x27;],\n",
              "                         &#x27;min_samples_leaf&#x27;: [2, 4],\n",
              "                         &#x27;min_samples_split&#x27;: [3, 4, 7],\n",
              "                         &#x27;n_estimators&#x27;: [80, 170, 300]})</pre><b>In a Jupyter environment, please rerun this cell to show the HTML representation or trust the notebook. <br />On GitHub, the HTML representation is unable to render, please try loading this page with nbviewer.org.</b></div><div class=\"sk-container\" hidden><div class=\"sk-item sk-dashed-wrapped\"><div class=\"sk-label-container\"><div class=\"sk-label sk-toggleable\"><input class=\"sk-toggleable__control sk-hidden--visually\" id=\"sk-estimator-id-3\" type=\"checkbox\" ><label for=\"sk-estimator-id-3\" class=\"sk-toggleable__label sk-toggleable__label-arrow\">GridSearchCV</label><div class=\"sk-toggleable__content\"><pre>GridSearchCV(cv=3, estimator=RandomForestRegressor(), n_jobs=3,\n",
              "             param_grid={&#x27;max_depth&#x27;: [2, 3, 7],\n",
              "                         &#x27;max_features&#x27;: [&#x27;sqrt&#x27;, &#x27;log2&#x27;],\n",
              "                         &#x27;min_samples_leaf&#x27;: [2, 4],\n",
              "                         &#x27;min_samples_split&#x27;: [3, 4, 7],\n",
              "                         &#x27;n_estimators&#x27;: [80, 170, 300]})</pre></div></div></div><div class=\"sk-parallel\"><div class=\"sk-parallel-item\"><div class=\"sk-item\"><div class=\"sk-label-container\"><div class=\"sk-label sk-toggleable\"><input class=\"sk-toggleable__control sk-hidden--visually\" id=\"sk-estimator-id-4\" type=\"checkbox\" ><label for=\"sk-estimator-id-4\" class=\"sk-toggleable__label sk-toggleable__label-arrow\">estimator: RandomForestRegressor</label><div class=\"sk-toggleable__content\"><pre>RandomForestRegressor()</pre></div></div></div><div class=\"sk-serial\"><div class=\"sk-item\"><div class=\"sk-estimator sk-toggleable\"><input class=\"sk-toggleable__control sk-hidden--visually\" id=\"sk-estimator-id-5\" type=\"checkbox\" ><label for=\"sk-estimator-id-5\" class=\"sk-toggleable__label sk-toggleable__label-arrow\">RandomForestRegressor</label><div class=\"sk-toggleable__content\"><pre>RandomForestRegressor()</pre></div></div></div></div></div></div></div></div></div></div>"
            ]
          },
          "metadata": {},
          "execution_count": 34
        }
      ],
      "source": [
        "gs_cv.fit(x_train, y_train['co2emissions'])\n"
      ]
    },
    {
      "cell_type": "code",
      "execution_count": 35,
      "id": "3b9d9c05",
      "metadata": {
        "id": "3b9d9c05",
        "colab": {
          "base_uri": "https://localhost:8080/"
        },
        "outputId": "b1f857b7-57b9-4028-f158-7c4c3d107fe2"
      },
      "outputs": [
        {
          "output_type": "stream",
          "name": "stdout",
          "text": [
            "best_params: {'max_depth': 7, 'max_features': 'log2', 'min_samples_leaf': 2, 'min_samples_split': 4, 'n_estimators': 170}\n"
          ]
        }
      ],
      "source": [
        "print('best_params:',gs_cv.best_params_)"
      ]
    },
    {
      "cell_type": "code",
      "execution_count": 36,
      "id": "c009daff",
      "metadata": {
        "id": "c009daff",
        "colab": {
          "base_uri": "https://localhost:8080/"
        },
        "outputId": "f1ef338f-f447-466b-d559-c2beb6e5df8f"
      },
      "outputs": [
        {
          "output_type": "stream",
          "name": "stdout",
          "text": [
            "Previous_std_value and Mean; 0.9970335002416393 -0.007454987840760684\n",
            "New_std_value and Mean  0.9736278940544489 -0.006012116482553421\n",
            "New_model's R2_score:  0.9862013506217382\n"
          ]
        }
      ],
      "source": [
        "rfr.set_params(**gs_cv.best_params_)\n",
        "rfr.fit(x_train,y_train['co2emissions'])\n",
        "new_y_pred = rfr.predict(x_test)\n",
        "\n",
        "print('Previous_std_value and Mean;', y_pred.std() , y_pred.mean() )\n",
        "print('New_std_value and Mean ',new_y_pred.std() , new_y_pred.mean())\n",
        "print('New_model\\'s R2_score: ', r2_score(y_test['co2emissions'],new_y_pred))\n",
        "\n"
      ]
    },
    {
      "cell_type": "markdown",
      "id": "96204b8f",
      "metadata": {
        "id": "96204b8f"
      },
      "source": [
        "## K-means clustering"
      ]
    },
    {
      "cell_type": "markdown",
      "id": "61aefb87",
      "metadata": {
        "id": "61aefb87"
      },
      "source": [
        "## Parameter hyper turning\n",
        "                                                                                            21/U/08812/EVE"
      ]
    },
    {
      "cell_type": "code",
      "execution_count": 37,
      "id": "a70b5c8a",
      "metadata": {
        "scrolled": false,
        "id": "a70b5c8a",
        "colab": {
          "base_uri": "https://localhost:8080/"
        },
        "outputId": "df2acf37-21cc-4cdb-d6c4-21cd4cc55954"
      },
      "outputs": [
        {
          "output_type": "stream",
          "name": "stdout",
          "text": [
            "the best parameters: {'max_depth': 7, 'max_features': 'log2', 'min_samples_leaf': 2, 'min_samples_split': 4, 'n_estimators': 170}\n"
          ]
        }
      ],
      "source": [
        "from sklearn.cluster import KMeans\n",
        "kmeans = KMeans()\n",
        "param_grid = {\n",
        "    'n_clusters': [2, 3, 4, 5],\n",
        "    'init': ['k-means++', 'random'],\n",
        "    'n_init': [10, 20, 30],\n",
        "    'max_iter': [130, 300,420]\n",
        "         }\n",
        "gs_cv0 = GridSearchCV(estimator=kmeans, param_grid=param_grid,\n",
        "                     cv=3, n_jobs=-1)\n",
        "X = x_train.loc[:, ['year','highwaympg']]\n",
        "gs_cv0.fit(X)\n",
        "best_params = gs_cv.best_params_\n",
        "print('the best parameters:', best_params)"
      ]
    },
    {
      "cell_type": "code",
      "execution_count": 38,
      "id": "13ef502b",
      "metadata": {
        "id": "13ef502b",
        "colab": {
          "base_uri": "https://localhost:8080/",
          "height": 75
        },
        "outputId": "b78db7a4-6ef5-45f8-e584-0edbf424db12"
      },
      "outputs": [
        {
          "output_type": "execute_result",
          "data": {
            "text/plain": [
              "KMeans(init='random', max_iter=130, n_clusters=5, n_init=30)"
            ],
            "text/html": [
              "<style>#sk-container-id-4 {color: black;background-color: white;}#sk-container-id-4 pre{padding: 0;}#sk-container-id-4 div.sk-toggleable {background-color: white;}#sk-container-id-4 label.sk-toggleable__label {cursor: pointer;display: block;width: 100%;margin-bottom: 0;padding: 0.3em;box-sizing: border-box;text-align: center;}#sk-container-id-4 label.sk-toggleable__label-arrow:before {content: \"▸\";float: left;margin-right: 0.25em;color: #696969;}#sk-container-id-4 label.sk-toggleable__label-arrow:hover:before {color: black;}#sk-container-id-4 div.sk-estimator:hover label.sk-toggleable__label-arrow:before {color: black;}#sk-container-id-4 div.sk-toggleable__content {max-height: 0;max-width: 0;overflow: hidden;text-align: left;background-color: #f0f8ff;}#sk-container-id-4 div.sk-toggleable__content pre {margin: 0.2em;color: black;border-radius: 0.25em;background-color: #f0f8ff;}#sk-container-id-4 input.sk-toggleable__control:checked~div.sk-toggleable__content {max-height: 200px;max-width: 100%;overflow: auto;}#sk-container-id-4 input.sk-toggleable__control:checked~label.sk-toggleable__label-arrow:before {content: \"▾\";}#sk-container-id-4 div.sk-estimator input.sk-toggleable__control:checked~label.sk-toggleable__label {background-color: #d4ebff;}#sk-container-id-4 div.sk-label input.sk-toggleable__control:checked~label.sk-toggleable__label {background-color: #d4ebff;}#sk-container-id-4 input.sk-hidden--visually {border: 0;clip: rect(1px 1px 1px 1px);clip: rect(1px, 1px, 1px, 1px);height: 1px;margin: -1px;overflow: hidden;padding: 0;position: absolute;width: 1px;}#sk-container-id-4 div.sk-estimator {font-family: monospace;background-color: #f0f8ff;border: 1px dotted black;border-radius: 0.25em;box-sizing: border-box;margin-bottom: 0.5em;}#sk-container-id-4 div.sk-estimator:hover {background-color: #d4ebff;}#sk-container-id-4 div.sk-parallel-item::after {content: \"\";width: 100%;border-bottom: 1px solid gray;flex-grow: 1;}#sk-container-id-4 div.sk-label:hover label.sk-toggleable__label {background-color: #d4ebff;}#sk-container-id-4 div.sk-serial::before {content: \"\";position: absolute;border-left: 1px solid gray;box-sizing: border-box;top: 0;bottom: 0;left: 50%;z-index: 0;}#sk-container-id-4 div.sk-serial {display: flex;flex-direction: column;align-items: center;background-color: white;padding-right: 0.2em;padding-left: 0.2em;position: relative;}#sk-container-id-4 div.sk-item {position: relative;z-index: 1;}#sk-container-id-4 div.sk-parallel {display: flex;align-items: stretch;justify-content: center;background-color: white;position: relative;}#sk-container-id-4 div.sk-item::before, #sk-container-id-4 div.sk-parallel-item::before {content: \"\";position: absolute;border-left: 1px solid gray;box-sizing: border-box;top: 0;bottom: 0;left: 50%;z-index: -1;}#sk-container-id-4 div.sk-parallel-item {display: flex;flex-direction: column;z-index: 1;position: relative;background-color: white;}#sk-container-id-4 div.sk-parallel-item:first-child::after {align-self: flex-end;width: 50%;}#sk-container-id-4 div.sk-parallel-item:last-child::after {align-self: flex-start;width: 50%;}#sk-container-id-4 div.sk-parallel-item:only-child::after {width: 0;}#sk-container-id-4 div.sk-dashed-wrapped {border: 1px dashed gray;margin: 0 0.4em 0.5em 0.4em;box-sizing: border-box;padding-bottom: 0.4em;background-color: white;}#sk-container-id-4 div.sk-label label {font-family: monospace;font-weight: bold;display: inline-block;line-height: 1.2em;}#sk-container-id-4 div.sk-label-container {text-align: center;}#sk-container-id-4 div.sk-container {/* jupyter's `normalize.less` sets `[hidden] { display: none; }` but bootstrap.min.css set `[hidden] { display: none !important; }` so we also need the `!important` here to be able to override the default hidden behavior on the sphinx rendered scikit-learn.org. See: https://github.com/scikit-learn/scikit-learn/issues/21755 */display: inline-block !important;position: relative;}#sk-container-id-4 div.sk-text-repr-fallback {display: none;}</style><div id=\"sk-container-id-4\" class=\"sk-top-container\"><div class=\"sk-text-repr-fallback\"><pre>KMeans(init=&#x27;random&#x27;, max_iter=130, n_clusters=5, n_init=30)</pre><b>In a Jupyter environment, please rerun this cell to show the HTML representation or trust the notebook. <br />On GitHub, the HTML representation is unable to render, please try loading this page with nbviewer.org.</b></div><div class=\"sk-container\" hidden><div class=\"sk-item\"><div class=\"sk-estimator sk-toggleable\"><input class=\"sk-toggleable__control sk-hidden--visually\" id=\"sk-estimator-id-6\" type=\"checkbox\" checked><label for=\"sk-estimator-id-6\" class=\"sk-toggleable__label sk-toggleable__label-arrow\">KMeans</label><div class=\"sk-toggleable__content\"><pre>KMeans(init=&#x27;random&#x27;, max_iter=130, n_clusters=5, n_init=30)</pre></div></div></div></div></div>"
            ]
          },
          "metadata": {},
          "execution_count": 38
        }
      ],
      "source": [
        "kmeans.set_params(**gs_cv0.best_params_)\n",
        "kmeans.fit(X)"
      ]
    },
    {
      "cell_type": "code",
      "execution_count": 49,
      "id": "4ad25011",
      "metadata": {
        "id": "4ad25011",
        "colab": {
          "base_uri": "https://localhost:8080/",
          "height": 472
        },
        "outputId": "d6a39fbf-9a96-44a0-9b5f-f7fa6b89b60d"
      },
      "outputs": [
        {
          "output_type": "execute_result",
          "data": {
            "text/plain": [
              "<Axes: xlabel='highwaympg', ylabel='year'>"
            ]
          },
          "metadata": {},
          "execution_count": 49
        },
        {
          "output_type": "display_data",
          "data": {
            "text/plain": [
              "<Figure size 640x480 with 2 Axes>"
            ],
            "image/png": "[encoded data removed]"
          },
          "metadata": {}
        }
      ],
      "source": [
        "X_test = x_test.loc[:, ['year','highwaympg']]\n",
        "X_test['pred'] = kmeans.predict(x_test.loc[:, ['year','highwaympg']])\n",
        "\n",
        "X_test.plot(kind = 'scatter', x = 'highwaympg',y ='year', c='pred',cmap='coolwarm')\n"
      ]
    },
    {
      "cell_type": "markdown",
      "id": "e85e7fd7",
      "metadata": {
        "id": "e85e7fd7"
      },
      "source": [
        "# Best performing model\n",
        "### Random forest classifier"
      ]
    },
    {
      "cell_type": "code",
      "execution_count": 45,
      "id": "cf915202",
      "metadata": {
        "id": "cf915202",
        "colab": {
          "base_uri": "https://localhost:8080/"
        },
        "outputId": "d770ed9a-7fb7-4345-b2af-1ca618b00b88"
      },
      "outputs": [
        {
          "output_type": "stream",
          "name": "stdout",
          "text": [
            "Model_std_value and Mean  0.9736278940544489 -0.006012116482553421\n",
            "Model_model's R2_score:  0.9862013506217382\n",
            "MSE 0.013804382248434898\n",
            "RMSE 0.11749205185217806\n"
          ]
        }
      ],
      "source": [
        "print('Model_std_value and Mean ',new_y_pred.std() , new_y_pred.mean())\n",
        "print('Model_model\\'s R2_score: ', r2_score(y_test['co2emissions'],new_y_pred))\n",
        "print('MSE', mean_squared_error(y_test['co2emissions'],new_y_pred))\n",
        "print('RMSE', np.sqrt(mean_squared_error(y_test['co2emissions'],new_y_pred)))\n",
        "\n",
        "\n"
      ]
    },
    {
      "cell_type": "markdown",
      "source": [
        "# Model_model's R2_score:  0.9862013506217382\n"
      ],
      "metadata": {
        "id": "EjP-X-V48qP_"
      },
      "id": "EjP-X-V48qP_"
    }
  ],
  "metadata": {
    "kernelspec": {
      "display_name": "Python 3 (ipykernel)",
      "language": "python",
      "name": "python3"
    },
    "language_info": {
      "codemirror_mode": {
        "name": "ipython",
        "version": 3
      },
      "file_extension": ".py",
      "mimetype": "text/x-python",
      "name": "python",
      "nbconvert_exporter": "python",
      "pygments_lexer": "ipython3",
      "version": "3.11.3"
    },
    "colab": {
      "provenance": [],
      "toc_visible": true,
      "gpuType": "T4",
      "include_colab_link": true
    },
    "gpuClass": "standard"
  },
  "nbformat": 4,
  "nbformat_minor": 5
}